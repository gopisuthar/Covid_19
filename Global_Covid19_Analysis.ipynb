{
 "cells": [
  {
   "cell_type": "code",
   "execution_count": 44,
   "metadata": {},
   "outputs": [],
   "source": [
    "#load libraries\n",
    "import pandas as pd               \n",
    "import matplotlib                \n",
    "import matplotlib.pyplot as plt  \n",
    "import seaborn as sns             \n",
    "import datetime as dt             \n",
    "import numpy as np\n",
    "import folium\n",
    "import plotly.express as px"
   ]
  },
  {
   "cell_type": "markdown",
   "metadata": {},
   "source": [
    "## Data Inspection"
   ]
  },
  {
   "cell_type": "code",
   "execution_count": 45,
   "metadata": {},
   "outputs": [
    {
     "data": {
      "text/html": [
       "<div>\n",
       "<style scoped>\n",
       "    .dataframe tbody tr th:only-of-type {\n",
       "        vertical-align: middle;\n",
       "    }\n",
       "\n",
       "    .dataframe tbody tr th {\n",
       "        vertical-align: top;\n",
       "    }\n",
       "\n",
       "    .dataframe thead th {\n",
       "        text-align: right;\n",
       "    }\n",
       "</style>\n",
       "<table border=\"1\" class=\"dataframe\">\n",
       "  <thead>\n",
       "    <tr style=\"text-align: right;\">\n",
       "      <th></th>\n",
       "      <th>Country_Region</th>\n",
       "      <th>Last_Update</th>\n",
       "      <th>Lat</th>\n",
       "      <th>Long_</th>\n",
       "      <th>Confirmed</th>\n",
       "      <th>Deaths</th>\n",
       "      <th>Recovered</th>\n",
       "      <th>Active</th>\n",
       "      <th>Incident_Rate</th>\n",
       "      <th>People_Tested</th>\n",
       "      <th>People_Hospitalized</th>\n",
       "      <th>Mortality_Rate</th>\n",
       "      <th>UID</th>\n",
       "      <th>ISO3</th>\n",
       "    </tr>\n",
       "  </thead>\n",
       "  <tbody>\n",
       "    <tr>\n",
       "      <th>0</th>\n",
       "      <td>Australia</td>\n",
       "      <td>2020-05-06 02:32:31</td>\n",
       "      <td>-25.0000</td>\n",
       "      <td>133.0000</td>\n",
       "      <td>6875</td>\n",
       "      <td>97</td>\n",
       "      <td>5975</td>\n",
       "      <td>803</td>\n",
       "      <td>27.003460</td>\n",
       "      <td>NaN</td>\n",
       "      <td>NaN</td>\n",
       "      <td>1.410909</td>\n",
       "      <td>36</td>\n",
       "      <td>AUS</td>\n",
       "    </tr>\n",
       "    <tr>\n",
       "      <th>1</th>\n",
       "      <td>Austria</td>\n",
       "      <td>2020-05-06 02:32:31</td>\n",
       "      <td>47.5162</td>\n",
       "      <td>14.5501</td>\n",
       "      <td>15650</td>\n",
       "      <td>606</td>\n",
       "      <td>13462</td>\n",
       "      <td>1582</td>\n",
       "      <td>173.765322</td>\n",
       "      <td>NaN</td>\n",
       "      <td>NaN</td>\n",
       "      <td>3.872204</td>\n",
       "      <td>40</td>\n",
       "      <td>AUT</td>\n",
       "    </tr>\n",
       "    <tr>\n",
       "      <th>2</th>\n",
       "      <td>Canada</td>\n",
       "      <td>2020-05-06 02:32:31</td>\n",
       "      <td>60.0010</td>\n",
       "      <td>-95.0010</td>\n",
       "      <td>63215</td>\n",
       "      <td>4190</td>\n",
       "      <td>27006</td>\n",
       "      <td>32019</td>\n",
       "      <td>166.989375</td>\n",
       "      <td>NaN</td>\n",
       "      <td>NaN</td>\n",
       "      <td>6.628174</td>\n",
       "      <td>124</td>\n",
       "      <td>CAN</td>\n",
       "    </tr>\n",
       "    <tr>\n",
       "      <th>3</th>\n",
       "      <td>China</td>\n",
       "      <td>2020-05-06 02:32:31</td>\n",
       "      <td>30.5928</td>\n",
       "      <td>114.3055</td>\n",
       "      <td>83968</td>\n",
       "      <td>4637</td>\n",
       "      <td>78870</td>\n",
       "      <td>461</td>\n",
       "      <td>5.977747</td>\n",
       "      <td>NaN</td>\n",
       "      <td>NaN</td>\n",
       "      <td>5.522342</td>\n",
       "      <td>156</td>\n",
       "      <td>CHN</td>\n",
       "    </tr>\n",
       "    <tr>\n",
       "      <th>4</th>\n",
       "      <td>Denmark</td>\n",
       "      <td>2020-05-06 02:32:31</td>\n",
       "      <td>56.0000</td>\n",
       "      <td>10.0000</td>\n",
       "      <td>10019</td>\n",
       "      <td>503</td>\n",
       "      <td>7492</td>\n",
       "      <td>2024</td>\n",
       "      <td>172.973910</td>\n",
       "      <td>NaN</td>\n",
       "      <td>NaN</td>\n",
       "      <td>5.020461</td>\n",
       "      <td>208</td>\n",
       "      <td>DNK</td>\n",
       "    </tr>\n",
       "  </tbody>\n",
       "</table>\n",
       "</div>"
      ],
      "text/plain": [
       "  Country_Region          Last_Update      Lat     Long_  Confirmed  Deaths  \\\n",
       "0      Australia  2020-05-06 02:32:31 -25.0000  133.0000       6875      97   \n",
       "1        Austria  2020-05-06 02:32:31  47.5162   14.5501      15650     606   \n",
       "2         Canada  2020-05-06 02:32:31  60.0010  -95.0010      63215    4190   \n",
       "3          China  2020-05-06 02:32:31  30.5928  114.3055      83968    4637   \n",
       "4        Denmark  2020-05-06 02:32:31  56.0000   10.0000      10019     503   \n",
       "\n",
       "   Recovered  Active  Incident_Rate  People_Tested  People_Hospitalized  \\\n",
       "0       5975     803      27.003460            NaN                  NaN   \n",
       "1      13462    1582     173.765322            NaN                  NaN   \n",
       "2      27006   32019     166.989375            NaN                  NaN   \n",
       "3      78870     461       5.977747            NaN                  NaN   \n",
       "4       7492    2024     172.973910            NaN                  NaN   \n",
       "\n",
       "   Mortality_Rate  UID ISO3  \n",
       "0        1.410909   36  AUS  \n",
       "1        3.872204   40  AUT  \n",
       "2        6.628174  124  CAN  \n",
       "3        5.522342  156  CHN  \n",
       "4        5.020461  208  DNK  "
      ]
     },
     "execution_count": 45,
     "metadata": {},
     "output_type": "execute_result"
    }
   ],
   "source": [
    "#Read the data file from Github\n",
    "covid19_country_data=pd.read_csv('https://raw.githubusercontent.com/CSSEGISandData/COVID-19/web-data/data/cases_country.csv')\n",
    "confirmed_data=pd.read_csv('https://raw.githubusercontent.com/gopisuthar/Covid_19/DataAnalysis/Resources/covid19_Confirmed.csv')\n",
    "recovered_data=pd.read_csv('https://raw.githubusercontent.com/gopisuthar/Covid_19/DataAnalysis/Resources/covid19_Recovered.csv')\n",
    "death_data=pd.read_csv('https://raw.githubusercontent.com/gopisuthar/Covid_19/DataAnalysis/Resources/covid19_Deaths.csv')\n",
    "\n",
    "#Examine head of each file\n",
    "covid19_country_data.head()"
   ]
  },
  {
   "cell_type": "code",
   "execution_count": 46,
   "metadata": {},
   "outputs": [
    {
     "data": {
      "text/html": [
       "<div>\n",
       "<style scoped>\n",
       "    .dataframe tbody tr th:only-of-type {\n",
       "        vertical-align: middle;\n",
       "    }\n",
       "\n",
       "    .dataframe tbody tr th {\n",
       "        vertical-align: top;\n",
       "    }\n",
       "\n",
       "    .dataframe thead th {\n",
       "        text-align: right;\n",
       "    }\n",
       "</style>\n",
       "<table border=\"1\" class=\"dataframe\">\n",
       "  <thead>\n",
       "    <tr style=\"text-align: right;\">\n",
       "      <th></th>\n",
       "      <th>Province/State</th>\n",
       "      <th>Country/Region</th>\n",
       "      <th>Lat</th>\n",
       "      <th>Long</th>\n",
       "      <th>1/22/20</th>\n",
       "      <th>1/23/20</th>\n",
       "      <th>1/24/20</th>\n",
       "      <th>1/25/20</th>\n",
       "      <th>1/26/20</th>\n",
       "      <th>1/27/20</th>\n",
       "      <th>...</th>\n",
       "      <th>3/22/20</th>\n",
       "      <th>3/23/20</th>\n",
       "      <th>3/24/20</th>\n",
       "      <th>3/25/20</th>\n",
       "      <th>3/26/20</th>\n",
       "      <th>3/27/20</th>\n",
       "      <th>3/28/20</th>\n",
       "      <th>3/29/20</th>\n",
       "      <th>3/30/20</th>\n",
       "      <th>3/31/20</th>\n",
       "    </tr>\n",
       "  </thead>\n",
       "  <tbody>\n",
       "    <tr>\n",
       "      <th>0</th>\n",
       "      <td>NaN</td>\n",
       "      <td>Afghanistan</td>\n",
       "      <td>33.0000</td>\n",
       "      <td>65.0000</td>\n",
       "      <td>0</td>\n",
       "      <td>0</td>\n",
       "      <td>0</td>\n",
       "      <td>0</td>\n",
       "      <td>0</td>\n",
       "      <td>0</td>\n",
       "      <td>...</td>\n",
       "      <td>40</td>\n",
       "      <td>40</td>\n",
       "      <td>74</td>\n",
       "      <td>84</td>\n",
       "      <td>94</td>\n",
       "      <td>110</td>\n",
       "      <td>110</td>\n",
       "      <td>120</td>\n",
       "      <td>170</td>\n",
       "      <td>174</td>\n",
       "    </tr>\n",
       "    <tr>\n",
       "      <th>1</th>\n",
       "      <td>NaN</td>\n",
       "      <td>Albania</td>\n",
       "      <td>41.1533</td>\n",
       "      <td>20.1683</td>\n",
       "      <td>0</td>\n",
       "      <td>0</td>\n",
       "      <td>0</td>\n",
       "      <td>0</td>\n",
       "      <td>0</td>\n",
       "      <td>0</td>\n",
       "      <td>...</td>\n",
       "      <td>89</td>\n",
       "      <td>104</td>\n",
       "      <td>123</td>\n",
       "      <td>146</td>\n",
       "      <td>174</td>\n",
       "      <td>186</td>\n",
       "      <td>197</td>\n",
       "      <td>212</td>\n",
       "      <td>223</td>\n",
       "      <td>243</td>\n",
       "    </tr>\n",
       "    <tr>\n",
       "      <th>2</th>\n",
       "      <td>NaN</td>\n",
       "      <td>Algeria</td>\n",
       "      <td>28.0339</td>\n",
       "      <td>1.6596</td>\n",
       "      <td>0</td>\n",
       "      <td>0</td>\n",
       "      <td>0</td>\n",
       "      <td>0</td>\n",
       "      <td>0</td>\n",
       "      <td>0</td>\n",
       "      <td>...</td>\n",
       "      <td>201</td>\n",
       "      <td>230</td>\n",
       "      <td>264</td>\n",
       "      <td>302</td>\n",
       "      <td>367</td>\n",
       "      <td>409</td>\n",
       "      <td>454</td>\n",
       "      <td>511</td>\n",
       "      <td>584</td>\n",
       "      <td>716</td>\n",
       "    </tr>\n",
       "    <tr>\n",
       "      <th>3</th>\n",
       "      <td>NaN</td>\n",
       "      <td>Andorra</td>\n",
       "      <td>42.5063</td>\n",
       "      <td>1.5218</td>\n",
       "      <td>0</td>\n",
       "      <td>0</td>\n",
       "      <td>0</td>\n",
       "      <td>0</td>\n",
       "      <td>0</td>\n",
       "      <td>0</td>\n",
       "      <td>...</td>\n",
       "      <td>113</td>\n",
       "      <td>133</td>\n",
       "      <td>164</td>\n",
       "      <td>188</td>\n",
       "      <td>224</td>\n",
       "      <td>267</td>\n",
       "      <td>308</td>\n",
       "      <td>334</td>\n",
       "      <td>370</td>\n",
       "      <td>376</td>\n",
       "    </tr>\n",
       "    <tr>\n",
       "      <th>4</th>\n",
       "      <td>NaN</td>\n",
       "      <td>Angola</td>\n",
       "      <td>-11.2027</td>\n",
       "      <td>17.8739</td>\n",
       "      <td>0</td>\n",
       "      <td>0</td>\n",
       "      <td>0</td>\n",
       "      <td>0</td>\n",
       "      <td>0</td>\n",
       "      <td>0</td>\n",
       "      <td>...</td>\n",
       "      <td>2</td>\n",
       "      <td>3</td>\n",
       "      <td>3</td>\n",
       "      <td>3</td>\n",
       "      <td>4</td>\n",
       "      <td>4</td>\n",
       "      <td>5</td>\n",
       "      <td>7</td>\n",
       "      <td>7</td>\n",
       "      <td>7</td>\n",
       "    </tr>\n",
       "  </tbody>\n",
       "</table>\n",
       "<p>5 rows × 74 columns</p>\n",
       "</div>"
      ],
      "text/plain": [
       "  Province/State Country/Region      Lat     Long  1/22/20  1/23/20  1/24/20  \\\n",
       "0            NaN    Afghanistan  33.0000  65.0000        0        0        0   \n",
       "1            NaN        Albania  41.1533  20.1683        0        0        0   \n",
       "2            NaN        Algeria  28.0339   1.6596        0        0        0   \n",
       "3            NaN        Andorra  42.5063   1.5218        0        0        0   \n",
       "4            NaN         Angola -11.2027  17.8739        0        0        0   \n",
       "\n",
       "   1/25/20  1/26/20  1/27/20  ...  3/22/20  3/23/20  3/24/20  3/25/20  \\\n",
       "0        0        0        0  ...       40       40       74       84   \n",
       "1        0        0        0  ...       89      104      123      146   \n",
       "2        0        0        0  ...      201      230      264      302   \n",
       "3        0        0        0  ...      113      133      164      188   \n",
       "4        0        0        0  ...        2        3        3        3   \n",
       "\n",
       "   3/26/20  3/27/20  3/28/20  3/29/20  3/30/20  3/31/20  \n",
       "0       94      110      110      120      170      174  \n",
       "1      174      186      197      212      223      243  \n",
       "2      367      409      454      511      584      716  \n",
       "3      224      267      308      334      370      376  \n",
       "4        4        4        5        7        7        7  \n",
       "\n",
       "[5 rows x 74 columns]"
      ]
     },
     "execution_count": 46,
     "metadata": {},
     "output_type": "execute_result"
    }
   ],
   "source": [
    "confirmed_data.head()"
   ]
  },
  {
   "cell_type": "code",
   "execution_count": 47,
   "metadata": {},
   "outputs": [
    {
     "data": {
      "text/html": [
       "<div>\n",
       "<style scoped>\n",
       "    .dataframe tbody tr th:only-of-type {\n",
       "        vertical-align: middle;\n",
       "    }\n",
       "\n",
       "    .dataframe tbody tr th {\n",
       "        vertical-align: top;\n",
       "    }\n",
       "\n",
       "    .dataframe thead th {\n",
       "        text-align: right;\n",
       "    }\n",
       "</style>\n",
       "<table border=\"1\" class=\"dataframe\">\n",
       "  <thead>\n",
       "    <tr style=\"text-align: right;\">\n",
       "      <th></th>\n",
       "      <th>Province/State</th>\n",
       "      <th>Country/Region</th>\n",
       "      <th>Lat</th>\n",
       "      <th>Long</th>\n",
       "      <th>1/22/20</th>\n",
       "      <th>1/23/20</th>\n",
       "      <th>1/24/20</th>\n",
       "      <th>1/25/20</th>\n",
       "      <th>1/26/20</th>\n",
       "      <th>1/27/20</th>\n",
       "      <th>...</th>\n",
       "      <th>3/22/20</th>\n",
       "      <th>3/23/20</th>\n",
       "      <th>3/24/20</th>\n",
       "      <th>3/25/20</th>\n",
       "      <th>3/26/20</th>\n",
       "      <th>3/27/20</th>\n",
       "      <th>3/28/20</th>\n",
       "      <th>3/29/20</th>\n",
       "      <th>3/30/20</th>\n",
       "      <th>3/31/20</th>\n",
       "    </tr>\n",
       "  </thead>\n",
       "  <tbody>\n",
       "    <tr>\n",
       "      <th>0</th>\n",
       "      <td>NaN</td>\n",
       "      <td>Afghanistan</td>\n",
       "      <td>33.0000</td>\n",
       "      <td>65.0000</td>\n",
       "      <td>0</td>\n",
       "      <td>0</td>\n",
       "      <td>0</td>\n",
       "      <td>0</td>\n",
       "      <td>0</td>\n",
       "      <td>0</td>\n",
       "      <td>...</td>\n",
       "      <td>1</td>\n",
       "      <td>1</td>\n",
       "      <td>1</td>\n",
       "      <td>2</td>\n",
       "      <td>4</td>\n",
       "      <td>4</td>\n",
       "      <td>4</td>\n",
       "      <td>4</td>\n",
       "      <td>4</td>\n",
       "      <td>4</td>\n",
       "    </tr>\n",
       "    <tr>\n",
       "      <th>1</th>\n",
       "      <td>NaN</td>\n",
       "      <td>Albania</td>\n",
       "      <td>41.1533</td>\n",
       "      <td>20.1683</td>\n",
       "      <td>0</td>\n",
       "      <td>0</td>\n",
       "      <td>0</td>\n",
       "      <td>0</td>\n",
       "      <td>0</td>\n",
       "      <td>0</td>\n",
       "      <td>...</td>\n",
       "      <td>2</td>\n",
       "      <td>4</td>\n",
       "      <td>5</td>\n",
       "      <td>5</td>\n",
       "      <td>6</td>\n",
       "      <td>8</td>\n",
       "      <td>10</td>\n",
       "      <td>10</td>\n",
       "      <td>11</td>\n",
       "      <td>15</td>\n",
       "    </tr>\n",
       "    <tr>\n",
       "      <th>2</th>\n",
       "      <td>NaN</td>\n",
       "      <td>Algeria</td>\n",
       "      <td>28.0339</td>\n",
       "      <td>1.6596</td>\n",
       "      <td>0</td>\n",
       "      <td>0</td>\n",
       "      <td>0</td>\n",
       "      <td>0</td>\n",
       "      <td>0</td>\n",
       "      <td>0</td>\n",
       "      <td>...</td>\n",
       "      <td>17</td>\n",
       "      <td>17</td>\n",
       "      <td>19</td>\n",
       "      <td>21</td>\n",
       "      <td>25</td>\n",
       "      <td>26</td>\n",
       "      <td>29</td>\n",
       "      <td>31</td>\n",
       "      <td>35</td>\n",
       "      <td>44</td>\n",
       "    </tr>\n",
       "    <tr>\n",
       "      <th>3</th>\n",
       "      <td>NaN</td>\n",
       "      <td>Andorra</td>\n",
       "      <td>42.5063</td>\n",
       "      <td>1.5218</td>\n",
       "      <td>0</td>\n",
       "      <td>0</td>\n",
       "      <td>0</td>\n",
       "      <td>0</td>\n",
       "      <td>0</td>\n",
       "      <td>0</td>\n",
       "      <td>...</td>\n",
       "      <td>1</td>\n",
       "      <td>1</td>\n",
       "      <td>1</td>\n",
       "      <td>1</td>\n",
       "      <td>3</td>\n",
       "      <td>3</td>\n",
       "      <td>3</td>\n",
       "      <td>6</td>\n",
       "      <td>8</td>\n",
       "      <td>12</td>\n",
       "    </tr>\n",
       "    <tr>\n",
       "      <th>4</th>\n",
       "      <td>NaN</td>\n",
       "      <td>Angola</td>\n",
       "      <td>-11.2027</td>\n",
       "      <td>17.8739</td>\n",
       "      <td>0</td>\n",
       "      <td>0</td>\n",
       "      <td>0</td>\n",
       "      <td>0</td>\n",
       "      <td>0</td>\n",
       "      <td>0</td>\n",
       "      <td>...</td>\n",
       "      <td>0</td>\n",
       "      <td>0</td>\n",
       "      <td>0</td>\n",
       "      <td>0</td>\n",
       "      <td>0</td>\n",
       "      <td>0</td>\n",
       "      <td>0</td>\n",
       "      <td>2</td>\n",
       "      <td>2</td>\n",
       "      <td>2</td>\n",
       "    </tr>\n",
       "  </tbody>\n",
       "</table>\n",
       "<p>5 rows × 74 columns</p>\n",
       "</div>"
      ],
      "text/plain": [
       "  Province/State Country/Region      Lat     Long  1/22/20  1/23/20  1/24/20  \\\n",
       "0            NaN    Afghanistan  33.0000  65.0000        0        0        0   \n",
       "1            NaN        Albania  41.1533  20.1683        0        0        0   \n",
       "2            NaN        Algeria  28.0339   1.6596        0        0        0   \n",
       "3            NaN        Andorra  42.5063   1.5218        0        0        0   \n",
       "4            NaN         Angola -11.2027  17.8739        0        0        0   \n",
       "\n",
       "   1/25/20  1/26/20  1/27/20  ...  3/22/20  3/23/20  3/24/20  3/25/20  \\\n",
       "0        0        0        0  ...        1        1        1        2   \n",
       "1        0        0        0  ...        2        4        5        5   \n",
       "2        0        0        0  ...       17       17       19       21   \n",
       "3        0        0        0  ...        1        1        1        1   \n",
       "4        0        0        0  ...        0        0        0        0   \n",
       "\n",
       "   3/26/20  3/27/20  3/28/20  3/29/20  3/30/20  3/31/20  \n",
       "0        4        4        4        4        4        4  \n",
       "1        6        8       10       10       11       15  \n",
       "2       25       26       29       31       35       44  \n",
       "3        3        3        3        6        8       12  \n",
       "4        0        0        0        2        2        2  \n",
       "\n",
       "[5 rows x 74 columns]"
      ]
     },
     "execution_count": 47,
     "metadata": {},
     "output_type": "execute_result"
    }
   ],
   "source": [
    "death_data.head()"
   ]
  },
  {
   "cell_type": "code",
   "execution_count": 48,
   "metadata": {},
   "outputs": [
    {
     "data": {
      "text/html": [
       "<div>\n",
       "<style scoped>\n",
       "    .dataframe tbody tr th:only-of-type {\n",
       "        vertical-align: middle;\n",
       "    }\n",
       "\n",
       "    .dataframe tbody tr th {\n",
       "        vertical-align: top;\n",
       "    }\n",
       "\n",
       "    .dataframe thead th {\n",
       "        text-align: right;\n",
       "    }\n",
       "</style>\n",
       "<table border=\"1\" class=\"dataframe\">\n",
       "  <thead>\n",
       "    <tr style=\"text-align: right;\">\n",
       "      <th></th>\n",
       "      <th>Province/State</th>\n",
       "      <th>Country/Region</th>\n",
       "      <th>Lat</th>\n",
       "      <th>Long</th>\n",
       "      <th>1/22/20</th>\n",
       "      <th>1/23/20</th>\n",
       "      <th>1/24/20</th>\n",
       "      <th>1/25/20</th>\n",
       "      <th>1/26/20</th>\n",
       "      <th>1/27/20</th>\n",
       "      <th>...</th>\n",
       "      <th>3/22/20</th>\n",
       "      <th>3/23/20</th>\n",
       "      <th>3/24/20</th>\n",
       "      <th>3/25/20</th>\n",
       "      <th>3/26/20</th>\n",
       "      <th>3/27/20</th>\n",
       "      <th>3/28/20</th>\n",
       "      <th>3/29/20</th>\n",
       "      <th>3/30/20</th>\n",
       "      <th>3/31/20</th>\n",
       "    </tr>\n",
       "  </thead>\n",
       "  <tbody>\n",
       "    <tr>\n",
       "      <th>0</th>\n",
       "      <td>NaN</td>\n",
       "      <td>Afghanistan</td>\n",
       "      <td>33.0000</td>\n",
       "      <td>65.0000</td>\n",
       "      <td>0</td>\n",
       "      <td>0</td>\n",
       "      <td>0</td>\n",
       "      <td>0</td>\n",
       "      <td>0</td>\n",
       "      <td>0</td>\n",
       "      <td>...</td>\n",
       "      <td>1</td>\n",
       "      <td>1</td>\n",
       "      <td>1</td>\n",
       "      <td>2</td>\n",
       "      <td>2</td>\n",
       "      <td>2</td>\n",
       "      <td>2</td>\n",
       "      <td>2</td>\n",
       "      <td>2</td>\n",
       "      <td>5</td>\n",
       "    </tr>\n",
       "    <tr>\n",
       "      <th>1</th>\n",
       "      <td>NaN</td>\n",
       "      <td>Albania</td>\n",
       "      <td>41.1533</td>\n",
       "      <td>20.1683</td>\n",
       "      <td>0</td>\n",
       "      <td>0</td>\n",
       "      <td>0</td>\n",
       "      <td>0</td>\n",
       "      <td>0</td>\n",
       "      <td>0</td>\n",
       "      <td>...</td>\n",
       "      <td>2</td>\n",
       "      <td>2</td>\n",
       "      <td>10</td>\n",
       "      <td>17</td>\n",
       "      <td>17</td>\n",
       "      <td>31</td>\n",
       "      <td>31</td>\n",
       "      <td>33</td>\n",
       "      <td>44</td>\n",
       "      <td>52</td>\n",
       "    </tr>\n",
       "    <tr>\n",
       "      <th>2</th>\n",
       "      <td>NaN</td>\n",
       "      <td>Algeria</td>\n",
       "      <td>28.0339</td>\n",
       "      <td>1.6596</td>\n",
       "      <td>0</td>\n",
       "      <td>0</td>\n",
       "      <td>0</td>\n",
       "      <td>0</td>\n",
       "      <td>0</td>\n",
       "      <td>0</td>\n",
       "      <td>...</td>\n",
       "      <td>65</td>\n",
       "      <td>65</td>\n",
       "      <td>24</td>\n",
       "      <td>65</td>\n",
       "      <td>29</td>\n",
       "      <td>29</td>\n",
       "      <td>31</td>\n",
       "      <td>31</td>\n",
       "      <td>37</td>\n",
       "      <td>46</td>\n",
       "    </tr>\n",
       "    <tr>\n",
       "      <th>3</th>\n",
       "      <td>NaN</td>\n",
       "      <td>Andorra</td>\n",
       "      <td>42.5063</td>\n",
       "      <td>1.5218</td>\n",
       "      <td>0</td>\n",
       "      <td>0</td>\n",
       "      <td>0</td>\n",
       "      <td>0</td>\n",
       "      <td>0</td>\n",
       "      <td>0</td>\n",
       "      <td>...</td>\n",
       "      <td>1</td>\n",
       "      <td>1</td>\n",
       "      <td>1</td>\n",
       "      <td>1</td>\n",
       "      <td>1</td>\n",
       "      <td>1</td>\n",
       "      <td>1</td>\n",
       "      <td>1</td>\n",
       "      <td>10</td>\n",
       "      <td>10</td>\n",
       "    </tr>\n",
       "    <tr>\n",
       "      <th>4</th>\n",
       "      <td>NaN</td>\n",
       "      <td>Angola</td>\n",
       "      <td>-11.2027</td>\n",
       "      <td>17.8739</td>\n",
       "      <td>0</td>\n",
       "      <td>0</td>\n",
       "      <td>0</td>\n",
       "      <td>0</td>\n",
       "      <td>0</td>\n",
       "      <td>0</td>\n",
       "      <td>...</td>\n",
       "      <td>0</td>\n",
       "      <td>0</td>\n",
       "      <td>0</td>\n",
       "      <td>0</td>\n",
       "      <td>0</td>\n",
       "      <td>0</td>\n",
       "      <td>0</td>\n",
       "      <td>0</td>\n",
       "      <td>0</td>\n",
       "      <td>1</td>\n",
       "    </tr>\n",
       "  </tbody>\n",
       "</table>\n",
       "<p>5 rows × 74 columns</p>\n",
       "</div>"
      ],
      "text/plain": [
       "  Province/State Country/Region      Lat     Long  1/22/20  1/23/20  1/24/20  \\\n",
       "0            NaN    Afghanistan  33.0000  65.0000        0        0        0   \n",
       "1            NaN        Albania  41.1533  20.1683        0        0        0   \n",
       "2            NaN        Algeria  28.0339   1.6596        0        0        0   \n",
       "3            NaN        Andorra  42.5063   1.5218        0        0        0   \n",
       "4            NaN         Angola -11.2027  17.8739        0        0        0   \n",
       "\n",
       "   1/25/20  1/26/20  1/27/20  ...  3/22/20  3/23/20  3/24/20  3/25/20  \\\n",
       "0        0        0        0  ...        1        1        1        2   \n",
       "1        0        0        0  ...        2        2       10       17   \n",
       "2        0        0        0  ...       65       65       24       65   \n",
       "3        0        0        0  ...        1        1        1        1   \n",
       "4        0        0        0  ...        0        0        0        0   \n",
       "\n",
       "   3/26/20  3/27/20  3/28/20  3/29/20  3/30/20  3/31/20  \n",
       "0        2        2        2        2        2        5  \n",
       "1       17       31       31       33       44       52  \n",
       "2       29       29       31       31       37       46  \n",
       "3        1        1        1        1       10       10  \n",
       "4        0        0        0        0        0        1  \n",
       "\n",
       "[5 rows x 74 columns]"
      ]
     },
     "execution_count": 48,
     "metadata": {},
     "output_type": "execute_result"
    }
   ],
   "source": [
    "recovered_data.head()"
   ]
  },
  {
   "cell_type": "code",
   "execution_count": 49,
   "metadata": {},
   "outputs": [
    {
     "name": "stdout",
     "output_type": "stream",
     "text": [
      "<class 'pandas.core.frame.DataFrame'>\n",
      "RangeIndex: 256 entries, 0 to 255\n",
      "Data columns (total 74 columns):\n",
      " #   Column          Non-Null Count  Dtype  \n",
      "---  ------          --------------  -----  \n",
      " 0   Province/State  79 non-null     object \n",
      " 1   Country/Region  256 non-null    object \n",
      " 2   Lat             256 non-null    float64\n",
      " 3   Long            256 non-null    float64\n",
      " 4   1/22/20         256 non-null    int64  \n",
      " 5   1/23/20         256 non-null    int64  \n",
      " 6   1/24/20         256 non-null    int64  \n",
      " 7   1/25/20         256 non-null    int64  \n",
      " 8   1/26/20         256 non-null    int64  \n",
      " 9   1/27/20         256 non-null    int64  \n",
      " 10  1/28/20         256 non-null    int64  \n",
      " 11  1/29/20         256 non-null    int64  \n",
      " 12  1/30/20         256 non-null    int64  \n",
      " 13  1/31/20         256 non-null    int64  \n",
      " 14  2/1/20          256 non-null    int64  \n",
      " 15  2/2/20          256 non-null    int64  \n",
      " 16  2/3/20          256 non-null    int64  \n",
      " 17  2/4/20          256 non-null    int64  \n",
      " 18  2/5/20          256 non-null    int64  \n",
      " 19  2/6/20          256 non-null    int64  \n",
      " 20  2/7/20          256 non-null    int64  \n",
      " 21  2/8/20          256 non-null    int64  \n",
      " 22  2/9/20          256 non-null    int64  \n",
      " 23  2/10/20         256 non-null    int64  \n",
      " 24  2/11/20         256 non-null    int64  \n",
      " 25  2/12/20         256 non-null    int64  \n",
      " 26  2/13/20         256 non-null    int64  \n",
      " 27  2/14/20         256 non-null    int64  \n",
      " 28  2/15/20         256 non-null    int64  \n",
      " 29  2/16/20         256 non-null    int64  \n",
      " 30  2/17/20         256 non-null    int64  \n",
      " 31  2/18/20         256 non-null    int64  \n",
      " 32  2/19/20         256 non-null    int64  \n",
      " 33  2/20/20         256 non-null    int64  \n",
      " 34  2/21/20         256 non-null    int64  \n",
      " 35  2/22/20         256 non-null    int64  \n",
      " 36  2/23/20         256 non-null    int64  \n",
      " 37  2/24/20         256 non-null    int64  \n",
      " 38  2/25/20         256 non-null    int64  \n",
      " 39  2/26/20         256 non-null    int64  \n",
      " 40  2/27/20         256 non-null    int64  \n",
      " 41  2/28/20         256 non-null    int64  \n",
      " 42  2/29/20         256 non-null    int64  \n",
      " 43  3/1/20          256 non-null    int64  \n",
      " 44  3/2/20          256 non-null    int64  \n",
      " 45  3/3/20          256 non-null    int64  \n",
      " 46  3/4/20          256 non-null    int64  \n",
      " 47  3/5/20          256 non-null    int64  \n",
      " 48  3/6/20          256 non-null    int64  \n",
      " 49  3/7/20          256 non-null    int64  \n",
      " 50  3/8/20          256 non-null    int64  \n",
      " 51  3/9/20          256 non-null    int64  \n",
      " 52  3/10/20         256 non-null    int64  \n",
      " 53  3/11/20         256 non-null    int64  \n",
      " 54  3/12/20         256 non-null    int64  \n",
      " 55  3/13/20         256 non-null    int64  \n",
      " 56  3/14/20         256 non-null    int64  \n",
      " 57  3/15/20         256 non-null    int64  \n",
      " 58  3/16/20         256 non-null    int64  \n",
      " 59  3/17/20         256 non-null    int64  \n",
      " 60  3/18/20         256 non-null    int64  \n",
      " 61  3/19/20         256 non-null    int64  \n",
      " 62  3/20/20         256 non-null    int64  \n",
      " 63  3/21/20         256 non-null    int64  \n",
      " 64  3/22/20         256 non-null    int64  \n",
      " 65  3/23/20         256 non-null    int64  \n",
      " 66  3/24/20         256 non-null    int64  \n",
      " 67  3/25/20         256 non-null    int64  \n",
      " 68  3/26/20         256 non-null    int64  \n",
      " 69  3/27/20         256 non-null    int64  \n",
      " 70  3/28/20         256 non-null    int64  \n",
      " 71  3/29/20         256 non-null    int64  \n",
      " 72  3/30/20         256 non-null    int64  \n",
      " 73  3/31/20         256 non-null    int64  \n",
      "dtypes: float64(2), int64(70), object(2)\n",
      "memory usage: 146.1+ KB\n"
     ]
    }
   ],
   "source": [
    "confirmed_data.info()"
   ]
  },
  {
   "cell_type": "code",
   "execution_count": 50,
   "metadata": {},
   "outputs": [
    {
     "name": "stdout",
     "output_type": "stream",
     "text": [
      "<class 'pandas.core.frame.DataFrame'>\n",
      "RangeIndex: 256 entries, 0 to 255\n",
      "Data columns (total 74 columns):\n",
      " #   Column          Non-Null Count  Dtype  \n",
      "---  ------          --------------  -----  \n",
      " 0   Province/State  79 non-null     object \n",
      " 1   Country/Region  256 non-null    object \n",
      " 2   Lat             256 non-null    float64\n",
      " 3   Long            256 non-null    float64\n",
      " 4   1/22/20         256 non-null    int64  \n",
      " 5   1/23/20         256 non-null    int64  \n",
      " 6   1/24/20         256 non-null    int64  \n",
      " 7   1/25/20         256 non-null    int64  \n",
      " 8   1/26/20         256 non-null    int64  \n",
      " 9   1/27/20         256 non-null    int64  \n",
      " 10  1/28/20         256 non-null    int64  \n",
      " 11  1/29/20         256 non-null    int64  \n",
      " 12  1/30/20         256 non-null    int64  \n",
      " 13  1/31/20         256 non-null    int64  \n",
      " 14  2/1/20          256 non-null    int64  \n",
      " 15  2/2/20          256 non-null    int64  \n",
      " 16  2/3/20          256 non-null    int64  \n",
      " 17  2/4/20          256 non-null    int64  \n",
      " 18  2/5/20          256 non-null    int64  \n",
      " 19  2/6/20          256 non-null    int64  \n",
      " 20  2/7/20          256 non-null    int64  \n",
      " 21  2/8/20          256 non-null    int64  \n",
      " 22  2/9/20          256 non-null    int64  \n",
      " 23  2/10/20         256 non-null    int64  \n",
      " 24  2/11/20         256 non-null    int64  \n",
      " 25  2/12/20         256 non-null    int64  \n",
      " 26  2/13/20         256 non-null    int64  \n",
      " 27  2/14/20         256 non-null    int64  \n",
      " 28  2/15/20         256 non-null    int64  \n",
      " 29  2/16/20         256 non-null    int64  \n",
      " 30  2/17/20         256 non-null    int64  \n",
      " 31  2/18/20         256 non-null    int64  \n",
      " 32  2/19/20         256 non-null    int64  \n",
      " 33  2/20/20         256 non-null    int64  \n",
      " 34  2/21/20         256 non-null    int64  \n",
      " 35  2/22/20         256 non-null    int64  \n",
      " 36  2/23/20         256 non-null    int64  \n",
      " 37  2/24/20         256 non-null    int64  \n",
      " 38  2/25/20         256 non-null    int64  \n",
      " 39  2/26/20         256 non-null    int64  \n",
      " 40  2/27/20         256 non-null    int64  \n",
      " 41  2/28/20         256 non-null    int64  \n",
      " 42  2/29/20         256 non-null    int64  \n",
      " 43  3/1/20          256 non-null    int64  \n",
      " 44  3/2/20          256 non-null    int64  \n",
      " 45  3/3/20          256 non-null    int64  \n",
      " 46  3/4/20          256 non-null    int64  \n",
      " 47  3/5/20          256 non-null    int64  \n",
      " 48  3/6/20          256 non-null    int64  \n",
      " 49  3/7/20          256 non-null    int64  \n",
      " 50  3/8/20          256 non-null    int64  \n",
      " 51  3/9/20          256 non-null    int64  \n",
      " 52  3/10/20         256 non-null    int64  \n",
      " 53  3/11/20         256 non-null    int64  \n",
      " 54  3/12/20         256 non-null    int64  \n",
      " 55  3/13/20         256 non-null    int64  \n",
      " 56  3/14/20         256 non-null    int64  \n",
      " 57  3/15/20         256 non-null    int64  \n",
      " 58  3/16/20         256 non-null    int64  \n",
      " 59  3/17/20         256 non-null    int64  \n",
      " 60  3/18/20         256 non-null    int64  \n",
      " 61  3/19/20         256 non-null    int64  \n",
      " 62  3/20/20         256 non-null    int64  \n",
      " 63  3/21/20         256 non-null    int64  \n",
      " 64  3/22/20         256 non-null    int64  \n",
      " 65  3/23/20         256 non-null    int64  \n",
      " 66  3/24/20         256 non-null    int64  \n",
      " 67  3/25/20         256 non-null    int64  \n",
      " 68  3/26/20         256 non-null    int64  \n",
      " 69  3/27/20         256 non-null    int64  \n",
      " 70  3/28/20         256 non-null    int64  \n",
      " 71  3/29/20         256 non-null    int64  \n",
      " 72  3/30/20         256 non-null    int64  \n",
      " 73  3/31/20         256 non-null    int64  \n",
      "dtypes: float64(2), int64(70), object(2)\n",
      "memory usage: 146.1+ KB\n"
     ]
    }
   ],
   "source": [
    "death_data.info()"
   ]
  },
  {
   "cell_type": "code",
   "execution_count": 51,
   "metadata": {},
   "outputs": [
    {
     "name": "stdout",
     "output_type": "stream",
     "text": [
      "<class 'pandas.core.frame.DataFrame'>\n",
      "RangeIndex: 242 entries, 0 to 241\n",
      "Data columns (total 74 columns):\n",
      " #   Column          Non-Null Count  Dtype  \n",
      "---  ------          --------------  -----  \n",
      " 0   Province/State  64 non-null     object \n",
      " 1   Country/Region  242 non-null    object \n",
      " 2   Lat             242 non-null    float64\n",
      " 3   Long            242 non-null    float64\n",
      " 4   1/22/20         242 non-null    int64  \n",
      " 5   1/23/20         242 non-null    int64  \n",
      " 6   1/24/20         242 non-null    int64  \n",
      " 7   1/25/20         242 non-null    int64  \n",
      " 8   1/26/20         242 non-null    int64  \n",
      " 9   1/27/20         242 non-null    int64  \n",
      " 10  1/28/20         242 non-null    int64  \n",
      " 11  1/29/20         242 non-null    int64  \n",
      " 12  1/30/20         242 non-null    int64  \n",
      " 13  1/31/20         242 non-null    int64  \n",
      " 14  2/1/20          242 non-null    int64  \n",
      " 15  2/2/20          242 non-null    int64  \n",
      " 16  2/3/20          242 non-null    int64  \n",
      " 17  2/4/20          242 non-null    int64  \n",
      " 18  2/5/20          242 non-null    int64  \n",
      " 19  2/6/20          242 non-null    int64  \n",
      " 20  2/7/20          242 non-null    int64  \n",
      " 21  2/8/20          242 non-null    int64  \n",
      " 22  2/9/20          242 non-null    int64  \n",
      " 23  2/10/20         242 non-null    int64  \n",
      " 24  2/11/20         242 non-null    int64  \n",
      " 25  2/12/20         242 non-null    int64  \n",
      " 26  2/13/20         242 non-null    int64  \n",
      " 27  2/14/20         242 non-null    int64  \n",
      " 28  2/15/20         242 non-null    int64  \n",
      " 29  2/16/20         242 non-null    int64  \n",
      " 30  2/17/20         242 non-null    int64  \n",
      " 31  2/18/20         242 non-null    int64  \n",
      " 32  2/19/20         242 non-null    int64  \n",
      " 33  2/20/20         242 non-null    int64  \n",
      " 34  2/21/20         242 non-null    int64  \n",
      " 35  2/22/20         242 non-null    int64  \n",
      " 36  2/23/20         242 non-null    int64  \n",
      " 37  2/24/20         242 non-null    int64  \n",
      " 38  2/25/20         242 non-null    int64  \n",
      " 39  2/26/20         242 non-null    int64  \n",
      " 40  2/27/20         242 non-null    int64  \n",
      " 41  2/28/20         242 non-null    int64  \n",
      " 42  2/29/20         242 non-null    int64  \n",
      " 43  3/1/20          242 non-null    int64  \n",
      " 44  3/2/20          242 non-null    int64  \n",
      " 45  3/3/20          242 non-null    int64  \n",
      " 46  3/4/20          242 non-null    int64  \n",
      " 47  3/5/20          242 non-null    int64  \n",
      " 48  3/6/20          242 non-null    int64  \n",
      " 49  3/7/20          242 non-null    int64  \n",
      " 50  3/8/20          242 non-null    int64  \n",
      " 51  3/9/20          242 non-null    int64  \n",
      " 52  3/10/20         242 non-null    int64  \n",
      " 53  3/11/20         242 non-null    int64  \n",
      " 54  3/12/20         242 non-null    int64  \n",
      " 55  3/13/20         242 non-null    int64  \n",
      " 56  3/14/20         242 non-null    int64  \n",
      " 57  3/15/20         242 non-null    int64  \n",
      " 58  3/16/20         242 non-null    int64  \n",
      " 59  3/17/20         242 non-null    int64  \n",
      " 60  3/18/20         242 non-null    int64  \n",
      " 61  3/19/20         242 non-null    int64  \n",
      " 62  3/20/20         242 non-null    int64  \n",
      " 63  3/21/20         242 non-null    int64  \n",
      " 64  3/22/20         242 non-null    int64  \n",
      " 65  3/23/20         242 non-null    int64  \n",
      " 66  3/24/20         242 non-null    int64  \n",
      " 67  3/25/20         242 non-null    int64  \n",
      " 68  3/26/20         242 non-null    int64  \n",
      " 69  3/27/20         242 non-null    int64  \n",
      " 70  3/28/20         242 non-null    int64  \n",
      " 71  3/29/20         242 non-null    int64  \n",
      " 72  3/30/20         242 non-null    int64  \n",
      " 73  3/31/20         242 non-null    int64  \n",
      "dtypes: float64(2), int64(70), object(2)\n",
      "memory usage: 138.1+ KB\n"
     ]
    }
   ],
   "source": [
    "recovered_data.info()"
   ]
  },
  {
   "cell_type": "code",
   "execution_count": 52,
   "metadata": {},
   "outputs": [
    {
     "data": {
      "text/plain": [
       "(256, 74)"
      ]
     },
     "execution_count": 52,
     "metadata": {},
     "output_type": "execute_result"
    }
   ],
   "source": [
    "confirmed_data.shape"
   ]
  },
  {
   "cell_type": "code",
   "execution_count": 53,
   "metadata": {},
   "outputs": [
    {
     "data": {
      "text/plain": [
       "(242, 74)"
      ]
     },
     "execution_count": 53,
     "metadata": {},
     "output_type": "execute_result"
    }
   ],
   "source": [
    "recovered_data.shape"
   ]
  },
  {
   "cell_type": "code",
   "execution_count": 54,
   "metadata": {},
   "outputs": [
    {
     "data": {
      "text/plain": [
       "(256, 74)"
      ]
     },
     "execution_count": 54,
     "metadata": {},
     "output_type": "execute_result"
    }
   ],
   "source": [
    "death_data.shape"
   ]
  },
  {
   "cell_type": "markdown",
   "metadata": {},
   "source": [
    "## Data Preprocessing"
   ]
  },
  {
   "cell_type": "code",
   "execution_count": 55,
   "metadata": {},
   "outputs": [],
   "source": [
    "#Let rename the columns for consistency\n",
    "confirmed_data=confirmed_data.rename(columns={'Province/State':'State','Country/Region':'Country'})\n",
    "recovered_data=recovered_data.rename(columns={'Province/State':'State','Country/Region':'Country'})\n",
    "death_data=death_data.rename(columns={'Province/State':'State','Country/Region':'Country'})\n",
    "covid19_country_data=covid19_country_data.rename(columns={'Country_Region':'Country'})"
   ]
  },
  {
   "cell_type": "code",
   "execution_count": 56,
   "metadata": {},
   "outputs": [],
   "source": [
    "#Let the rename country name for consistency\n",
    "#change US to USA\n",
    "confirmed_data.loc[confirmed_data['Country'] == 'US','Country'] = 'USA'\n",
    "recovered_data.loc[confirmed_data['Country']=='US','Country'] = 'USA'\n",
    "death_data.loc[confirmed_data['Country']=='US','Country'] = 'USA'\n",
    "\n",
    "#change Korea, south to Korea\n",
    "confirmed_data.loc[confirmed_data['Country']=='Korea, South','Country'] = 'South Korea'\n",
    "recovered_data.loc[confirmed_data['Country']=='Korea, South','Country'] = 'South Korea'\n",
    "death_data.loc[confirmed_data['Country']=='Korea, South','Country'] = 'South Korea'\n",
    "\n",
    "#change Taiwan* to Taiwan\n",
    "confirmed_data.loc[confirmed_data['Country']=='Taiwan*','Country'] = 'Taiwan'\n",
    "recovered_data.loc[confirmed_data['Country']=='Taiwan*','Country'] = 'Taiwan'\n",
    "death_data.loc[confirmed_data['Country']=='Taiwan*','Country'] = 'Taiwan'"
   ]
  },
  {
   "cell_type": "code",
   "execution_count": 57,
   "metadata": {},
   "outputs": [
    {
     "data": {
      "text/html": [
       "<div>\n",
       "<style scoped>\n",
       "    .dataframe tbody tr th:only-of-type {\n",
       "        vertical-align: middle;\n",
       "    }\n",
       "\n",
       "    .dataframe tbody tr th {\n",
       "        vertical-align: top;\n",
       "    }\n",
       "\n",
       "    .dataframe thead th {\n",
       "        text-align: right;\n",
       "    }\n",
       "</style>\n",
       "<table border=\"1\" class=\"dataframe\">\n",
       "  <thead>\n",
       "    <tr style=\"text-align: right;\">\n",
       "      <th></th>\n",
       "      <th>State</th>\n",
       "      <th>Country</th>\n",
       "      <th>Lat</th>\n",
       "      <th>Long</th>\n",
       "      <th>1/22/20</th>\n",
       "      <th>1/23/20</th>\n",
       "      <th>1/24/20</th>\n",
       "      <th>1/25/20</th>\n",
       "      <th>1/26/20</th>\n",
       "      <th>1/27/20</th>\n",
       "      <th>...</th>\n",
       "      <th>3/22/20</th>\n",
       "      <th>3/23/20</th>\n",
       "      <th>3/24/20</th>\n",
       "      <th>3/25/20</th>\n",
       "      <th>3/26/20</th>\n",
       "      <th>3/27/20</th>\n",
       "      <th>3/28/20</th>\n",
       "      <th>3/29/20</th>\n",
       "      <th>3/30/20</th>\n",
       "      <th>3/31/20</th>\n",
       "    </tr>\n",
       "  </thead>\n",
       "  <tbody>\n",
       "    <tr>\n",
       "      <th>207</th>\n",
       "      <td>NaN</td>\n",
       "      <td>Taiwan</td>\n",
       "      <td>23.7</td>\n",
       "      <td>121.0</td>\n",
       "      <td>1</td>\n",
       "      <td>1</td>\n",
       "      <td>3</td>\n",
       "      <td>3</td>\n",
       "      <td>4</td>\n",
       "      <td>5</td>\n",
       "      <td>...</td>\n",
       "      <td>169</td>\n",
       "      <td>195</td>\n",
       "      <td>215</td>\n",
       "      <td>235</td>\n",
       "      <td>252</td>\n",
       "      <td>267</td>\n",
       "      <td>283</td>\n",
       "      <td>298</td>\n",
       "      <td>306</td>\n",
       "      <td>322</td>\n",
       "    </tr>\n",
       "  </tbody>\n",
       "</table>\n",
       "<p>1 rows × 74 columns</p>\n",
       "</div>"
      ],
      "text/plain": [
       "    State Country   Lat   Long  1/22/20  1/23/20  1/24/20  1/25/20  1/26/20  \\\n",
       "207   NaN  Taiwan  23.7  121.0        1        1        3        3        4   \n",
       "\n",
       "     1/27/20  ...  3/22/20  3/23/20  3/24/20  3/25/20  3/26/20  3/27/20  \\\n",
       "207        5  ...      169      195      215      235      252      267   \n",
       "\n",
       "     3/28/20  3/29/20  3/30/20  3/31/20  \n",
       "207      283      298      306      322  \n",
       "\n",
       "[1 rows x 74 columns]"
      ]
     },
     "execution_count": 57,
     "metadata": {},
     "output_type": "execute_result"
    }
   ],
   "source": [
    "#double check to ensure changes \n",
    "\n",
    "confirmed_data.loc[confirmed_data['Country']=='Taiwan']"
   ]
  },
  {
   "cell_type": "code",
   "execution_count": 58,
   "metadata": {},
   "outputs": [
    {
     "data": {
      "text/html": [
       "<div>\n",
       "<style scoped>\n",
       "    .dataframe tbody tr th:only-of-type {\n",
       "        vertical-align: middle;\n",
       "    }\n",
       "\n",
       "    .dataframe tbody tr th {\n",
       "        vertical-align: top;\n",
       "    }\n",
       "\n",
       "    .dataframe thead th {\n",
       "        text-align: right;\n",
       "    }\n",
       "</style>\n",
       "<table border=\"1\" class=\"dataframe\">\n",
       "  <thead>\n",
       "    <tr style=\"text-align: right;\">\n",
       "      <th></th>\n",
       "      <th>State</th>\n",
       "      <th>Country</th>\n",
       "      <th>Lat</th>\n",
       "      <th>Long</th>\n",
       "      <th>1/22/20</th>\n",
       "      <th>1/23/20</th>\n",
       "      <th>1/24/20</th>\n",
       "      <th>1/25/20</th>\n",
       "      <th>1/26/20</th>\n",
       "      <th>1/27/20</th>\n",
       "      <th>...</th>\n",
       "      <th>3/22/20</th>\n",
       "      <th>3/23/20</th>\n",
       "      <th>3/24/20</th>\n",
       "      <th>3/25/20</th>\n",
       "      <th>3/26/20</th>\n",
       "      <th>3/27/20</th>\n",
       "      <th>3/28/20</th>\n",
       "      <th>3/29/20</th>\n",
       "      <th>3/30/20</th>\n",
       "      <th>3/31/20</th>\n",
       "    </tr>\n",
       "  </thead>\n",
       "  <tbody>\n",
       "    <tr>\n",
       "      <th>225</th>\n",
       "      <td>NaN</td>\n",
       "      <td>USA</td>\n",
       "      <td>37.0902</td>\n",
       "      <td>-95.7129</td>\n",
       "      <td>1</td>\n",
       "      <td>1</td>\n",
       "      <td>2</td>\n",
       "      <td>2</td>\n",
       "      <td>5</td>\n",
       "      <td>5</td>\n",
       "      <td>...</td>\n",
       "      <td>33276</td>\n",
       "      <td>43847</td>\n",
       "      <td>53740</td>\n",
       "      <td>65778</td>\n",
       "      <td>83836</td>\n",
       "      <td>101657</td>\n",
       "      <td>121478</td>\n",
       "      <td>140886</td>\n",
       "      <td>161807</td>\n",
       "      <td>188172</td>\n",
       "    </tr>\n",
       "  </tbody>\n",
       "</table>\n",
       "<p>1 rows × 74 columns</p>\n",
       "</div>"
      ],
      "text/plain": [
       "    State Country      Lat     Long  1/22/20  1/23/20  1/24/20  1/25/20  \\\n",
       "225   NaN     USA  37.0902 -95.7129        1        1        2        2   \n",
       "\n",
       "     1/26/20  1/27/20  ...  3/22/20  3/23/20  3/24/20  3/25/20  3/26/20  \\\n",
       "225        5        5  ...    33276    43847    53740    65778    83836   \n",
       "\n",
       "     3/27/20  3/28/20  3/29/20  3/30/20  3/31/20  \n",
       "225   101657   121478   140886   161807   188172  \n",
       "\n",
       "[1 rows x 74 columns]"
      ]
     },
     "execution_count": 58,
     "metadata": {},
     "output_type": "execute_result"
    }
   ],
   "source": [
    "confirmed_data.loc[confirmed_data['Country']=='USA']"
   ]
  },
  {
   "cell_type": "code",
   "execution_count": 59,
   "metadata": {},
   "outputs": [
    {
     "data": {
      "text/html": [
       "<div>\n",
       "<style scoped>\n",
       "    .dataframe tbody tr th:only-of-type {\n",
       "        vertical-align: middle;\n",
       "    }\n",
       "\n",
       "    .dataframe tbody tr th {\n",
       "        vertical-align: top;\n",
       "    }\n",
       "\n",
       "    .dataframe thead th {\n",
       "        text-align: right;\n",
       "    }\n",
       "</style>\n",
       "<table border=\"1\" class=\"dataframe\">\n",
       "  <thead>\n",
       "    <tr style=\"text-align: right;\">\n",
       "      <th></th>\n",
       "      <th>State</th>\n",
       "      <th>Country</th>\n",
       "      <th>Lat</th>\n",
       "      <th>Long</th>\n",
       "      <th>1/22/20</th>\n",
       "      <th>1/23/20</th>\n",
       "      <th>1/24/20</th>\n",
       "      <th>1/25/20</th>\n",
       "      <th>1/26/20</th>\n",
       "      <th>1/27/20</th>\n",
       "      <th>...</th>\n",
       "      <th>3/22/20</th>\n",
       "      <th>3/23/20</th>\n",
       "      <th>3/24/20</th>\n",
       "      <th>3/25/20</th>\n",
       "      <th>3/26/20</th>\n",
       "      <th>3/27/20</th>\n",
       "      <th>3/28/20</th>\n",
       "      <th>3/29/20</th>\n",
       "      <th>3/30/20</th>\n",
       "      <th>3/31/20</th>\n",
       "    </tr>\n",
       "  </thead>\n",
       "  <tbody>\n",
       "    <tr>\n",
       "      <th>143</th>\n",
       "      <td>NaN</td>\n",
       "      <td>South Korea</td>\n",
       "      <td>36.0</td>\n",
       "      <td>128.0</td>\n",
       "      <td>1</td>\n",
       "      <td>1</td>\n",
       "      <td>2</td>\n",
       "      <td>2</td>\n",
       "      <td>3</td>\n",
       "      <td>4</td>\n",
       "      <td>...</td>\n",
       "      <td>8961</td>\n",
       "      <td>8961</td>\n",
       "      <td>9037</td>\n",
       "      <td>9137</td>\n",
       "      <td>9241</td>\n",
       "      <td>9332</td>\n",
       "      <td>9478</td>\n",
       "      <td>9583</td>\n",
       "      <td>9661</td>\n",
       "      <td>9786</td>\n",
       "    </tr>\n",
       "  </tbody>\n",
       "</table>\n",
       "<p>1 rows × 74 columns</p>\n",
       "</div>"
      ],
      "text/plain": [
       "    State      Country   Lat   Long  1/22/20  1/23/20  1/24/20  1/25/20  \\\n",
       "143   NaN  South Korea  36.0  128.0        1        1        2        2   \n",
       "\n",
       "     1/26/20  1/27/20  ...  3/22/20  3/23/20  3/24/20  3/25/20  3/26/20  \\\n",
       "143        3        4  ...     8961     8961     9037     9137     9241   \n",
       "\n",
       "     3/27/20  3/28/20  3/29/20  3/30/20  3/31/20  \n",
       "143     9332     9478     9583     9661     9786  \n",
       "\n",
       "[1 rows x 74 columns]"
      ]
     },
     "execution_count": 59,
     "metadata": {},
     "output_type": "execute_result"
    }
   ],
   "source": [
    "confirmed_data.loc[confirmed_data['Country']=='South Korea']"
   ]
  },
  {
   "cell_type": "markdown",
   "metadata": {},
   "source": [
    "## Data Analysis"
   ]
  },
  {
   "cell_type": "code",
   "execution_count": 60,
   "metadata": {},
   "outputs": [
    {
     "data": {
      "text/html": [
       "<div>\n",
       "<style scoped>\n",
       "    .dataframe tbody tr th:only-of-type {\n",
       "        vertical-align: middle;\n",
       "    }\n",
       "\n",
       "    .dataframe tbody tr th {\n",
       "        vertical-align: top;\n",
       "    }\n",
       "\n",
       "    .dataframe thead th {\n",
       "        text-align: right;\n",
       "    }\n",
       "</style>\n",
       "<table border=\"1\" class=\"dataframe\">\n",
       "  <thead>\n",
       "    <tr style=\"text-align: right;\">\n",
       "      <th></th>\n",
       "      <th>Global COVID-19 Cases</th>\n",
       "    </tr>\n",
       "  </thead>\n",
       "  <tbody>\n",
       "    <tr>\n",
       "      <th>Confirmed</th>\n",
       "      <td>3662691</td>\n",
       "    </tr>\n",
       "    <tr>\n",
       "      <th>Deaths</th>\n",
       "      <td>257239</td>\n",
       "    </tr>\n",
       "    <tr>\n",
       "      <th>Recovered</th>\n",
       "      <td>1198832</td>\n",
       "    </tr>\n",
       "    <tr>\n",
       "      <th>Active</th>\n",
       "      <td>2235650</td>\n",
       "    </tr>\n",
       "  </tbody>\n",
       "</table>\n",
       "</div>"
      ],
      "text/plain": [
       "           Global COVID-19 Cases\n",
       "Confirmed                3662691\n",
       "Deaths                    257239\n",
       "Recovered                1198832\n",
       "Active                   2235650"
      ]
     },
     "execution_count": 60,
     "metadata": {},
     "output_type": "execute_result"
    }
   ],
   "source": [
    "#Examine Global Cases\n",
    "\n",
    "covid19_total=covid19_country_data.copy().drop(['Country','Last_Update','Lat','Long_','Incident_Rate','People_Tested','People_Hospitalized','Mortality_Rate','UID','ISO3'],axis=1)\n",
    "global_data = pd.DataFrame(covid19_total.sum())\n",
    "global_data = global_data.rename(columns={0: 'Global COVID-19 Cases'})\n",
    "global_data"
   ]
  },
  {
   "cell_type": "code",
   "execution_count": 61,
   "metadata": {},
   "outputs": [
    {
     "data": {
      "text/html": [
       "<style  type=\"text/css\" >\n",
       "    #T_dfb42110_8f43_11ea_b21c_84c5a651ff21row0_col0 {\n",
       "            background-color:  #08306b;\n",
       "            color:  #f1f1f1;\n",
       "        }    #T_dfb42110_8f43_11ea_b21c_84c5a651ff21row0_col1 {\n",
       "            background-color:  #7f0000;\n",
       "            color:  #f1f1f1;\n",
       "        }    #T_dfb42110_8f43_11ea_b21c_84c5a651ff21row0_col2 {\n",
       "            background-color:  #00441b;\n",
       "            color:  #f1f1f1;\n",
       "        }    #T_dfb42110_8f43_11ea_b21c_84c5a651ff21row0_col3 {\n",
       "            background-color:  #3f007d;\n",
       "            color:  #f1f1f1;\n",
       "        }    #T_dfb42110_8f43_11ea_b21c_84c5a651ff21row1_col0 {\n",
       "            background-color:  #e2edf8;\n",
       "            color:  #000000;\n",
       "        }    #T_dfb42110_8f43_11ea_b21c_84c5a651ff21row1_col1 {\n",
       "            background-color:  #fdc18a;\n",
       "            color:  #000000;\n",
       "        }    #T_dfb42110_8f43_11ea_b21c_84c5a651ff21row1_col2 {\n",
       "            background-color:  #3ba458;\n",
       "            color:  #000000;\n",
       "        }    #T_dfb42110_8f43_11ea_b21c_84c5a651ff21row1_col3 {\n",
       "            background-color:  #f6f4f9;\n",
       "            color:  #000000;\n",
       "        }    #T_dfb42110_8f43_11ea_b21c_84c5a651ff21row2_col0 {\n",
       "            background-color:  #e3eef8;\n",
       "            color:  #000000;\n",
       "        }    #T_dfb42110_8f43_11ea_b21c_84c5a651ff21row2_col1 {\n",
       "            background-color:  #fdb27b;\n",
       "            color:  #000000;\n",
       "        }    #T_dfb42110_8f43_11ea_b21c_84c5a651ff21row2_col2 {\n",
       "            background-color:  #87cd86;\n",
       "            color:  #000000;\n",
       "        }    #T_dfb42110_8f43_11ea_b21c_84c5a651ff21row2_col3 {\n",
       "            background-color:  #f3f1f7;\n",
       "            color:  #000000;\n",
       "        }    #T_dfb42110_8f43_11ea_b21c_84c5a651ff21row3_col0 {\n",
       "            background-color:  #e6f0f9;\n",
       "            color:  #000000;\n",
       "        }    #T_dfb42110_8f43_11ea_b21c_84c5a651ff21row3_col1 {\n",
       "            background-color:  #fdb07a;\n",
       "            color:  #000000;\n",
       "        }    #T_dfb42110_8f43_11ea_b21c_84c5a651ff21row3_col2 {\n",
       "            background-color:  #f7fcf5;\n",
       "            color:  #000000;\n",
       "        }    #T_dfb42110_8f43_11ea_b21c_84c5a651ff21row3_col3 {\n",
       "            background-color:  #eae8f2;\n",
       "            color:  #000000;\n",
       "        }    #T_dfb42110_8f43_11ea_b21c_84c5a651ff21row4_col0 {\n",
       "            background-color:  #eaf3fb;\n",
       "            color:  #000000;\n",
       "        }    #T_dfb42110_8f43_11ea_b21c_84c5a651ff21row4_col1 {\n",
       "            background-color:  #fdc18a;\n",
       "            color:  #000000;\n",
       "        }    #T_dfb42110_8f43_11ea_b21c_84c5a651ff21row4_col2 {\n",
       "            background-color:  #c0e6b9;\n",
       "            color:  #000000;\n",
       "        }    #T_dfb42110_8f43_11ea_b21c_84c5a651ff21row4_col3 {\n",
       "            background-color:  #f3f2f8;\n",
       "            color:  #000000;\n",
       "        }    #T_dfb42110_8f43_11ea_b21c_84c5a651ff21row5_col0 {\n",
       "            background-color:  #ebf3fb;\n",
       "            color:  #000000;\n",
       "        }    #T_dfb42110_8f43_11ea_b21c_84c5a651ff21row5_col1 {\n",
       "            background-color:  #feeed5;\n",
       "            color:  #000000;\n",
       "        }    #T_dfb42110_8f43_11ea_b21c_84c5a651ff21row5_col2 {\n",
       "            background-color:  #2d954d;\n",
       "            color:  #000000;\n",
       "        }    #T_dfb42110_8f43_11ea_b21c_84c5a651ff21row5_col3 {\n",
       "            background-color:  #fbfafc;\n",
       "            color:  #000000;\n",
       "        }    #T_dfb42110_8f43_11ea_b21c_84c5a651ff21row6_col0 {\n",
       "            background-color:  #eef5fc;\n",
       "            color:  #000000;\n",
       "        }    #T_dfb42110_8f43_11ea_b21c_84c5a651ff21row6_col1 {\n",
       "            background-color:  #fff7ec;\n",
       "            color:  #000000;\n",
       "        }    #T_dfb42110_8f43_11ea_b21c_84c5a651ff21row6_col2 {\n",
       "            background-color:  #e9f7e5;\n",
       "            color:  #000000;\n",
       "        }    #T_dfb42110_8f43_11ea_b21c_84c5a651ff21row6_col3 {\n",
       "            background-color:  #efedf5;\n",
       "            color:  #000000;\n",
       "        }    #T_dfb42110_8f43_11ea_b21c_84c5a651ff21row7_col0 {\n",
       "            background-color:  #f2f8fd;\n",
       "            color:  #000000;\n",
       "        }    #T_dfb42110_8f43_11ea_b21c_84c5a651ff21row7_col1 {\n",
       "            background-color:  #fff4e4;\n",
       "            color:  #000000;\n",
       "        }    #T_dfb42110_8f43_11ea_b21c_84c5a651ff21row7_col2 {\n",
       "            background-color:  #9ed798;\n",
       "            color:  #000000;\n",
       "        }    #T_dfb42110_8f43_11ea_b21c_84c5a651ff21row7_col3 {\n",
       "            background-color:  #f8f7fa;\n",
       "            color:  #000000;\n",
       "        }    #T_dfb42110_8f43_11ea_b21c_84c5a651ff21row8_col0 {\n",
       "            background-color:  #f5f9fe;\n",
       "            color:  #000000;\n",
       "        }    #T_dfb42110_8f43_11ea_b21c_84c5a651ff21row8_col1 {\n",
       "            background-color:  #feecd2;\n",
       "            color:  #000000;\n",
       "        }    #T_dfb42110_8f43_11ea_b21c_84c5a651ff21row8_col2 {\n",
       "            background-color:  #c7e9c0;\n",
       "            color:  #000000;\n",
       "        }    #T_dfb42110_8f43_11ea_b21c_84c5a651ff21row8_col3 {\n",
       "            background-color:  #f7f6fa;\n",
       "            color:  #000000;\n",
       "        }    #T_dfb42110_8f43_11ea_b21c_84c5a651ff21row9_col0 {\n",
       "            background-color:  #f7fbff;\n",
       "            color:  #000000;\n",
       "        }    #T_dfb42110_8f43_11ea_b21c_84c5a651ff21row9_col1 {\n",
       "            background-color:  #feefd9;\n",
       "            color:  #000000;\n",
       "        }    #T_dfb42110_8f43_11ea_b21c_84c5a651ff21row9_col2 {\n",
       "            background-color:  #91d28e;\n",
       "            color:  #000000;\n",
       "        }    #T_dfb42110_8f43_11ea_b21c_84c5a651ff21row9_col3 {\n",
       "            background-color:  #fcfbfd;\n",
       "            color:  #000000;\n",
       "        }</style><table id=\"T_dfb42110_8f43_11ea_b21c_84c5a651ff21\" ><thead>    <tr>        <th class=\"blank level0\" ></th>        <th class=\"col_heading level0 col0\" >Confirmed</th>        <th class=\"col_heading level0 col1\" >Deaths</th>        <th class=\"col_heading level0 col2\" >Recovered</th>        <th class=\"col_heading level0 col3\" >Active</th>        <th class=\"col_heading level0 col4\" >Mortality_Rate</th>    </tr>    <tr>        <th class=\"index_name level0\" >Country</th>        <th class=\"blank\" ></th>        <th class=\"blank\" ></th>        <th class=\"blank\" ></th>        <th class=\"blank\" ></th>        <th class=\"blank\" ></th>    </tr></thead><tbody>\n",
       "                <tr>\n",
       "                        <th id=\"T_dfb42110_8f43_11ea_b21c_84c5a651ff21level0_row0\" class=\"row_heading level0 row0\" >US</th>\n",
       "                        <td id=\"T_dfb42110_8f43_11ea_b21c_84c5a651ff21row0_col0\" class=\"data row0 col0\" >1204351</td>\n",
       "                        <td id=\"T_dfb42110_8f43_11ea_b21c_84c5a651ff21row0_col1\" class=\"data row0 col1\" >71064</td>\n",
       "                        <td id=\"T_dfb42110_8f43_11ea_b21c_84c5a651ff21row0_col2\" class=\"data row0 col2\" >189791</td>\n",
       "                        <td id=\"T_dfb42110_8f43_11ea_b21c_84c5a651ff21row0_col3\" class=\"data row0 col3\" >972526</td>\n",
       "                        <td id=\"T_dfb42110_8f43_11ea_b21c_84c5a651ff21row0_col4\" class=\"data row0 col4\" >5.900605</td>\n",
       "            </tr>\n",
       "            <tr>\n",
       "                        <th id=\"T_dfb42110_8f43_11ea_b21c_84c5a651ff21level0_row1\" class=\"row_heading level0 row1\" >Spain</th>\n",
       "                        <td id=\"T_dfb42110_8f43_11ea_b21c_84c5a651ff21row1_col0\" class=\"data row1 col0\" >219329</td>\n",
       "                        <td id=\"T_dfb42110_8f43_11ea_b21c_84c5a651ff21row1_col1\" class=\"data row1 col1\" >25613</td>\n",
       "                        <td id=\"T_dfb42110_8f43_11ea_b21c_84c5a651ff21row1_col2\" class=\"data row1 col2\" >123486</td>\n",
       "                        <td id=\"T_dfb42110_8f43_11ea_b21c_84c5a651ff21row1_col3\" class=\"data row1 col3\" >70230</td>\n",
       "                        <td id=\"T_dfb42110_8f43_11ea_b21c_84c5a651ff21row1_col4\" class=\"data row1 col4\" >11.677890</td>\n",
       "            </tr>\n",
       "            <tr>\n",
       "                        <th id=\"T_dfb42110_8f43_11ea_b21c_84c5a651ff21level0_row2\" class=\"row_heading level0 row2\" >Italy</th>\n",
       "                        <td id=\"T_dfb42110_8f43_11ea_b21c_84c5a651ff21row2_col0\" class=\"data row2 col0\" >213013</td>\n",
       "                        <td id=\"T_dfb42110_8f43_11ea_b21c_84c5a651ff21row2_col1\" class=\"data row2 col1\" >29315</td>\n",
       "                        <td id=\"T_dfb42110_8f43_11ea_b21c_84c5a651ff21row2_col2\" class=\"data row2 col2\" >85231</td>\n",
       "                        <td id=\"T_dfb42110_8f43_11ea_b21c_84c5a651ff21row2_col3\" class=\"data row2 col3\" >98467</td>\n",
       "                        <td id=\"T_dfb42110_8f43_11ea_b21c_84c5a651ff21row2_col4\" class=\"data row2 col4\" >13.762071</td>\n",
       "            </tr>\n",
       "            <tr>\n",
       "                        <th id=\"T_dfb42110_8f43_11ea_b21c_84c5a651ff21level0_row3\" class=\"row_heading level0 row3\" >United Kingdom</th>\n",
       "                        <td id=\"T_dfb42110_8f43_11ea_b21c_84c5a651ff21row3_col0\" class=\"data row3 col0\" >196243</td>\n",
       "                        <td id=\"T_dfb42110_8f43_11ea_b21c_84c5a651ff21row3_col1\" class=\"data row3 col1\" >29501</td>\n",
       "                        <td id=\"T_dfb42110_8f43_11ea_b21c_84c5a651ff21row3_col2\" class=\"data row3 col2\" >926</td>\n",
       "                        <td id=\"T_dfb42110_8f43_11ea_b21c_84c5a651ff21row3_col3\" class=\"data row3 col3\" >165816</td>\n",
       "                        <td id=\"T_dfb42110_8f43_11ea_b21c_84c5a651ff21row3_col4\" class=\"data row3 col4\" >15.032893</td>\n",
       "            </tr>\n",
       "            <tr>\n",
       "                        <th id=\"T_dfb42110_8f43_11ea_b21c_84c5a651ff21level0_row4\" class=\"row_heading level0 row4\" >France</th>\n",
       "                        <td id=\"T_dfb42110_8f43_11ea_b21c_84c5a651ff21row4_col0\" class=\"data row4 col0\" >170687</td>\n",
       "                        <td id=\"T_dfb42110_8f43_11ea_b21c_84c5a651ff21row4_col1\" class=\"data row4 col1\" >25537</td>\n",
       "                        <td id=\"T_dfb42110_8f43_11ea_b21c_84c5a651ff21row4_col2\" class=\"data row4 col2\" >52842</td>\n",
       "                        <td id=\"T_dfb42110_8f43_11ea_b21c_84c5a651ff21row4_col3\" class=\"data row4 col3\" >92308</td>\n",
       "                        <td id=\"T_dfb42110_8f43_11ea_b21c_84c5a651ff21row4_col4\" class=\"data row4 col4\" >14.961303</td>\n",
       "            </tr>\n",
       "            <tr>\n",
       "                        <th id=\"T_dfb42110_8f43_11ea_b21c_84c5a651ff21level0_row5\" class=\"row_heading level0 row5\" >Germany</th>\n",
       "                        <td id=\"T_dfb42110_8f43_11ea_b21c_84c5a651ff21row5_col0\" class=\"data row5 col0\" >167007</td>\n",
       "                        <td id=\"T_dfb42110_8f43_11ea_b21c_84c5a651ff21row5_col1\" class=\"data row5 col1\" >6993</td>\n",
       "                        <td id=\"T_dfb42110_8f43_11ea_b21c_84c5a651ff21row5_col2\" class=\"data row5 col2\" >135100</td>\n",
       "                        <td id=\"T_dfb42110_8f43_11ea_b21c_84c5a651ff21row5_col3\" class=\"data row5 col3\" >24914</td>\n",
       "                        <td id=\"T_dfb42110_8f43_11ea_b21c_84c5a651ff21row5_col4\" class=\"data row5 col4\" >4.187250</td>\n",
       "            </tr>\n",
       "            <tr>\n",
       "                        <th id=\"T_dfb42110_8f43_11ea_b21c_84c5a651ff21level0_row6\" class=\"row_heading level0 row6\" >Russia</th>\n",
       "                        <td id=\"T_dfb42110_8f43_11ea_b21c_84c5a651ff21row6_col0\" class=\"data row6 col0\" >155370</td>\n",
       "                        <td id=\"T_dfb42110_8f43_11ea_b21c_84c5a651ff21row6_col1\" class=\"data row6 col1\" >1451</td>\n",
       "                        <td id=\"T_dfb42110_8f43_11ea_b21c_84c5a651ff21row6_col2\" class=\"data row6 col2\" >19865</td>\n",
       "                        <td id=\"T_dfb42110_8f43_11ea_b21c_84c5a651ff21row6_col3\" class=\"data row6 col3\" >134054</td>\n",
       "                        <td id=\"T_dfb42110_8f43_11ea_b21c_84c5a651ff21row6_col4\" class=\"data row6 col4\" >0.933900</td>\n",
       "            </tr>\n",
       "            <tr>\n",
       "                        <th id=\"T_dfb42110_8f43_11ea_b21c_84c5a651ff21level0_row7\" class=\"row_heading level0 row7\" >Turkey</th>\n",
       "                        <td id=\"T_dfb42110_8f43_11ea_b21c_84c5a651ff21row7_col0\" class=\"data row7 col0\" >129491</td>\n",
       "                        <td id=\"T_dfb42110_8f43_11ea_b21c_84c5a651ff21row7_col1\" class=\"data row7 col1\" >3520</td>\n",
       "                        <td id=\"T_dfb42110_8f43_11ea_b21c_84c5a651ff21row7_col2\" class=\"data row7 col2\" >73285</td>\n",
       "                        <td id=\"T_dfb42110_8f43_11ea_b21c_84c5a651ff21row7_col3\" class=\"data row7 col3\" >52686</td>\n",
       "                        <td id=\"T_dfb42110_8f43_11ea_b21c_84c5a651ff21row7_col4\" class=\"data row7 col4\" >2.718336</td>\n",
       "            </tr>\n",
       "            <tr>\n",
       "                        <th id=\"T_dfb42110_8f43_11ea_b21c_84c5a651ff21level0_row8\" class=\"row_heading level0 row8\" >Brazil</th>\n",
       "                        <td id=\"T_dfb42110_8f43_11ea_b21c_84c5a651ff21row8_col0\" class=\"data row8 col0\" >115455</td>\n",
       "                        <td id=\"T_dfb42110_8f43_11ea_b21c_84c5a651ff21row8_col1\" class=\"data row8 col1\" >7938</td>\n",
       "                        <td id=\"T_dfb42110_8f43_11ea_b21c_84c5a651ff21row8_col2\" class=\"data row8 col2\" >48221</td>\n",
       "                        <td id=\"T_dfb42110_8f43_11ea_b21c_84c5a651ff21row8_col3\" class=\"data row8 col3\" >59296</td>\n",
       "                        <td id=\"T_dfb42110_8f43_11ea_b21c_84c5a651ff21row8_col4\" class=\"data row8 col4\" >6.875406</td>\n",
       "            </tr>\n",
       "            <tr>\n",
       "                        <th id=\"T_dfb42110_8f43_11ea_b21c_84c5a651ff21level0_row9\" class=\"row_heading level0 row9\" >Iran</th>\n",
       "                        <td id=\"T_dfb42110_8f43_11ea_b21c_84c5a651ff21row9_col0\" class=\"data row9 col0\" >99970</td>\n",
       "                        <td id=\"T_dfb42110_8f43_11ea_b21c_84c5a651ff21row9_col1\" class=\"data row9 col1\" >6340</td>\n",
       "                        <td id=\"T_dfb42110_8f43_11ea_b21c_84c5a651ff21row9_col2\" class=\"data row9 col2\" >80475</td>\n",
       "                        <td id=\"T_dfb42110_8f43_11ea_b21c_84c5a651ff21row9_col3\" class=\"data row9 col3\" >13155</td>\n",
       "                        <td id=\"T_dfb42110_8f43_11ea_b21c_84c5a651ff21row9_col4\" class=\"data row9 col4\" >6.341903</td>\n",
       "            </tr>\n",
       "    </tbody></table>"
      ],
      "text/plain": [
       "<pandas.io.formats.style.Styler at 0x202527d8>"
      ]
     },
     "execution_count": 61,
     "metadata": {},
     "output_type": "execute_result"
    }
   ],
   "source": [
    "#Examine the cases by top 10 countries by number of confirmed cases \n",
    "country_data = covid19_country_data.drop(['ISO3','UID','People_Hospitalized','People_Tested','Last_Update','Incident_Rate','Lat', 'Long_'], axis=1)\n",
    "\n",
    "country_data.sort_values('Confirmed', ascending=False)[:10].set_index('Country').style.background_gradient(cmap= 'Blues', subset=['Confirmed']).background_gradient(cmap= 'OrRd', subset=['Deaths']).background_gradient(cmap= 'Greens', subset=['Recovered']).background_gradient(cmap= 'Purples', subset=['Active'])"
   ]
  },
  {
   "cell_type": "code",
   "execution_count": 62,
   "metadata": {},
   "outputs": [
    {
     "data": {
      "text/html": [
       "<style  type=\"text/css\" >\n",
       "    #T_dfcfbba2_8f43_11ea_a75c_84c5a651ff21row0_col0 {\n",
       "            background-color:  #08306b;\n",
       "            color:  #f1f1f1;\n",
       "        }    #T_dfcfbba2_8f43_11ea_a75c_84c5a651ff21row0_col1 {\n",
       "            background-color:  #7f0000;\n",
       "            color:  #f1f1f1;\n",
       "        }    #T_dfcfbba2_8f43_11ea_a75c_84c5a651ff21row0_col2 {\n",
       "            background-color:  #00441b;\n",
       "            color:  #f1f1f1;\n",
       "        }    #T_dfcfbba2_8f43_11ea_a75c_84c5a651ff21row0_col3 {\n",
       "            background-color:  #3f007d;\n",
       "            color:  #f1f1f1;\n",
       "        }    #T_dfcfbba2_8f43_11ea_a75c_84c5a651ff21row0_col4 {\n",
       "            background-color:  #ffffff;\n",
       "            color:  #000000;\n",
       "        }    #T_dfcfbba2_8f43_11ea_a75c_84c5a651ff21row1_col0 {\n",
       "            background-color:  #f2f8fd;\n",
       "            color:  #000000;\n",
       "        }    #T_dfcfbba2_8f43_11ea_a75c_84c5a651ff21row1_col1 {\n",
       "            background-color:  #feedd3;\n",
       "            color:  #000000;\n",
       "        }    #T_dfcfbba2_8f43_11ea_a75c_84c5a651ff21row1_col2 {\n",
       "            background-color:  #f7fcf5;\n",
       "            color:  #000000;\n",
       "        }    #T_dfcfbba2_8f43_11ea_a75c_84c5a651ff21row1_col3 {\n",
       "            background-color:  #f1eff6;\n",
       "            color:  #000000;\n",
       "        }    #T_dfcfbba2_8f43_11ea_a75c_84c5a651ff21row1_col4 {\n",
       "            background-color:  #000000;\n",
       "            color:  #f1f1f1;\n",
       "        }    #T_dfcfbba2_8f43_11ea_a75c_84c5a651ff21row2_col0 {\n",
       "            background-color:  #eff6fc;\n",
       "            color:  #000000;\n",
       "        }    #T_dfcfbba2_8f43_11ea_a75c_84c5a651ff21row2_col1 {\n",
       "            background-color:  #feedd4;\n",
       "            color:  #000000;\n",
       "        }    #T_dfcfbba2_8f43_11ea_a75c_84c5a651ff21row2_col2 {\n",
       "            background-color:  #87cd86;\n",
       "            color:  #000000;\n",
       "        }    #T_dfcfbba2_8f43_11ea_a75c_84c5a651ff21row2_col3 {\n",
       "            background-color:  #f9f7fb;\n",
       "            color:  #000000;\n",
       "        }    #T_dfcfbba2_8f43_11ea_a75c_84c5a651ff21row2_col4 {\n",
       "            background-color:  #292929;\n",
       "            color:  #f1f1f1;\n",
       "        }    #T_dfcfbba2_8f43_11ea_a75c_84c5a651ff21row3_col0 {\n",
       "            background-color:  #eef5fc;\n",
       "            color:  #000000;\n",
       "        }    #T_dfcfbba2_8f43_11ea_a75c_84c5a651ff21row3_col1 {\n",
       "            background-color:  #fff7ec;\n",
       "            color:  #000000;\n",
       "        }    #T_dfcfbba2_8f43_11ea_a75c_84c5a651ff21row3_col2 {\n",
       "            background-color:  #3ba458;\n",
       "            color:  #000000;\n",
       "        }    #T_dfcfbba2_8f43_11ea_a75c_84c5a651ff21row3_col3 {\n",
       "            background-color:  #fcfbfd;\n",
       "            color:  #000000;\n",
       "        }    #T_dfcfbba2_8f43_11ea_a75c_84c5a651ff21row3_col4 {\n",
       "            background-color:  #717171;\n",
       "            color:  #000000;\n",
       "        }    #T_dfcfbba2_8f43_11ea_a75c_84c5a651ff21row4_col0 {\n",
       "            background-color:  #f7fbff;\n",
       "            color:  #000000;\n",
       "        }    #T_dfcfbba2_8f43_11ea_a75c_84c5a651ff21row4_col1 {\n",
       "            background-color:  #fff7ec;\n",
       "            color:  #000000;\n",
       "        }    #T_dfcfbba2_8f43_11ea_a75c_84c5a651ff21row4_col2 {\n",
       "            background-color:  #c0e6b9;\n",
       "            color:  #000000;\n",
       "        }    #T_dfcfbba2_8f43_11ea_a75c_84c5a651ff21row4_col3 {\n",
       "            background-color:  #faf8fb;\n",
       "            color:  #000000;\n",
       "        }    #T_dfcfbba2_8f43_11ea_a75c_84c5a651ff21row4_col4 {\n",
       "            background-color:  #020202;\n",
       "            color:  #f1f1f1;\n",
       "        }</style><table id=\"T_dfcfbba2_8f43_11ea_a75c_84c5a651ff21\" ><thead>    <tr>        <th class=\"blank level0\" ></th>        <th class=\"col_heading level0 col0\" >Confirmed</th>        <th class=\"col_heading level0 col1\" >Deaths</th>        <th class=\"col_heading level0 col2\" >Recovered</th>        <th class=\"col_heading level0 col3\" >Active</th>        <th class=\"col_heading level0 col4\" >Mortality_Rate</th>    </tr>    <tr>        <th class=\"index_name level0\" >Country</th>        <th class=\"blank\" ></th>        <th class=\"blank\" ></th>        <th class=\"blank\" ></th>        <th class=\"blank\" ></th>        <th class=\"blank\" ></th>    </tr></thead><tbody>\n",
       "                <tr>\n",
       "                        <th id=\"T_dfcfbba2_8f43_11ea_a75c_84c5a651ff21level0_row0\" class=\"row_heading level0 row0\" >US</th>\n",
       "                        <td id=\"T_dfcfbba2_8f43_11ea_a75c_84c5a651ff21row0_col0\" class=\"data row0 col0\" >1204351</td>\n",
       "                        <td id=\"T_dfcfbba2_8f43_11ea_a75c_84c5a651ff21row0_col1\" class=\"data row0 col1\" >71064</td>\n",
       "                        <td id=\"T_dfcfbba2_8f43_11ea_a75c_84c5a651ff21row0_col2\" class=\"data row0 col2\" >189791</td>\n",
       "                        <td id=\"T_dfcfbba2_8f43_11ea_a75c_84c5a651ff21row0_col3\" class=\"data row0 col3\" >972526</td>\n",
       "                        <td id=\"T_dfcfbba2_8f43_11ea_a75c_84c5a651ff21row0_col4\" class=\"data row0 col4\" >5.900605</td>\n",
       "            </tr>\n",
       "            <tr>\n",
       "                        <th id=\"T_dfcfbba2_8f43_11ea_a75c_84c5a651ff21level0_row1\" class=\"row_heading level0 row1\" >United Kingdom</th>\n",
       "                        <td id=\"T_dfcfbba2_8f43_11ea_a75c_84c5a651ff21row1_col0\" class=\"data row1 col0\" >196243</td>\n",
       "                        <td id=\"T_dfcfbba2_8f43_11ea_a75c_84c5a651ff21row1_col1\" class=\"data row1 col1\" >29501</td>\n",
       "                        <td id=\"T_dfcfbba2_8f43_11ea_a75c_84c5a651ff21row1_col2\" class=\"data row1 col2\" >926</td>\n",
       "                        <td id=\"T_dfcfbba2_8f43_11ea_a75c_84c5a651ff21row1_col3\" class=\"data row1 col3\" >165816</td>\n",
       "                        <td id=\"T_dfcfbba2_8f43_11ea_a75c_84c5a651ff21row1_col4\" class=\"data row1 col4\" >15.032893</td>\n",
       "            </tr>\n",
       "            <tr>\n",
       "                        <th id=\"T_dfcfbba2_8f43_11ea_a75c_84c5a651ff21level0_row2\" class=\"row_heading level0 row2\" >Italy</th>\n",
       "                        <td id=\"T_dfcfbba2_8f43_11ea_a75c_84c5a651ff21row2_col0\" class=\"data row2 col0\" >213013</td>\n",
       "                        <td id=\"T_dfcfbba2_8f43_11ea_a75c_84c5a651ff21row2_col1\" class=\"data row2 col1\" >29315</td>\n",
       "                        <td id=\"T_dfcfbba2_8f43_11ea_a75c_84c5a651ff21row2_col2\" class=\"data row2 col2\" >85231</td>\n",
       "                        <td id=\"T_dfcfbba2_8f43_11ea_a75c_84c5a651ff21row2_col3\" class=\"data row2 col3\" >98467</td>\n",
       "                        <td id=\"T_dfcfbba2_8f43_11ea_a75c_84c5a651ff21row2_col4\" class=\"data row2 col4\" >13.762071</td>\n",
       "            </tr>\n",
       "            <tr>\n",
       "                        <th id=\"T_dfcfbba2_8f43_11ea_a75c_84c5a651ff21level0_row3\" class=\"row_heading level0 row3\" >Spain</th>\n",
       "                        <td id=\"T_dfcfbba2_8f43_11ea_a75c_84c5a651ff21row3_col0\" class=\"data row3 col0\" >219329</td>\n",
       "                        <td id=\"T_dfcfbba2_8f43_11ea_a75c_84c5a651ff21row3_col1\" class=\"data row3 col1\" >25613</td>\n",
       "                        <td id=\"T_dfcfbba2_8f43_11ea_a75c_84c5a651ff21row3_col2\" class=\"data row3 col2\" >123486</td>\n",
       "                        <td id=\"T_dfcfbba2_8f43_11ea_a75c_84c5a651ff21row3_col3\" class=\"data row3 col3\" >70230</td>\n",
       "                        <td id=\"T_dfcfbba2_8f43_11ea_a75c_84c5a651ff21row3_col4\" class=\"data row3 col4\" >11.677890</td>\n",
       "            </tr>\n",
       "            <tr>\n",
       "                        <th id=\"T_dfcfbba2_8f43_11ea_a75c_84c5a651ff21level0_row4\" class=\"row_heading level0 row4\" >France</th>\n",
       "                        <td id=\"T_dfcfbba2_8f43_11ea_a75c_84c5a651ff21row4_col0\" class=\"data row4 col0\" >170687</td>\n",
       "                        <td id=\"T_dfcfbba2_8f43_11ea_a75c_84c5a651ff21row4_col1\" class=\"data row4 col1\" >25537</td>\n",
       "                        <td id=\"T_dfcfbba2_8f43_11ea_a75c_84c5a651ff21row4_col2\" class=\"data row4 col2\" >52842</td>\n",
       "                        <td id=\"T_dfcfbba2_8f43_11ea_a75c_84c5a651ff21row4_col3\" class=\"data row4 col3\" >92308</td>\n",
       "                        <td id=\"T_dfcfbba2_8f43_11ea_a75c_84c5a651ff21row4_col4\" class=\"data row4 col4\" >14.961303</td>\n",
       "            </tr>\n",
       "    </tbody></table>"
      ],
      "text/plain": [
       "<pandas.io.formats.style.Styler at 0x202521c0>"
      ]
     },
     "execution_count": 62,
     "metadata": {},
     "output_type": "execute_result"
    }
   ],
   "source": [
    "#Examine the cases by top 5 countries by number of deaths\n",
    "country_data.sort_values('Deaths', ascending=False)[:5].set_index('Country').style.background_gradient(cmap= 'Blues', subset=['Confirmed']).background_gradient(cmap= 'OrRd', subset=['Deaths']).background_gradient(cmap= 'Greens', subset=['Recovered']).background_gradient(cmap= 'Purples', subset=['Active']).background_gradient(cmap= 'Greys', subset=['Mortality_Rate'])"
   ]
  },
  {
   "cell_type": "code",
   "execution_count": 63,
   "metadata": {},
   "outputs": [
    {
     "data": {
      "text/html": [
       "<div>\n",
       "<style scoped>\n",
       "    .dataframe tbody tr th:only-of-type {\n",
       "        vertical-align: middle;\n",
       "    }\n",
       "\n",
       "    .dataframe tbody tr th {\n",
       "        vertical-align: top;\n",
       "    }\n",
       "\n",
       "    .dataframe thead th {\n",
       "        text-align: right;\n",
       "    }\n",
       "</style>\n",
       "<table border=\"1\" class=\"dataframe\">\n",
       "  <thead>\n",
       "    <tr style=\"text-align: right;\">\n",
       "      <th></th>\n",
       "      <th>Confirmed</th>\n",
       "      <th>Deaths</th>\n",
       "      <th>Recovered</th>\n",
       "      <th>Active</th>\n",
       "      <th>Mortality_Rate</th>\n",
       "    </tr>\n",
       "    <tr>\n",
       "      <th>Country</th>\n",
       "      <th></th>\n",
       "      <th></th>\n",
       "      <th></th>\n",
       "      <th></th>\n",
       "      <th></th>\n",
       "    </tr>\n",
       "  </thead>\n",
       "  <tbody>\n",
       "    <tr>\n",
       "      <th>Belgium</th>\n",
       "      <td>50509</td>\n",
       "      <td>8016</td>\n",
       "      <td>12441</td>\n",
       "      <td>30052</td>\n",
       "      <td>15.870439</td>\n",
       "    </tr>\n",
       "    <tr>\n",
       "      <th>United Kingdom</th>\n",
       "      <td>196243</td>\n",
       "      <td>29501</td>\n",
       "      <td>926</td>\n",
       "      <td>165816</td>\n",
       "      <td>15.032893</td>\n",
       "    </tr>\n",
       "    <tr>\n",
       "      <th>France</th>\n",
       "      <td>170687</td>\n",
       "      <td>25537</td>\n",
       "      <td>52842</td>\n",
       "      <td>92308</td>\n",
       "      <td>14.961303</td>\n",
       "    </tr>\n",
       "    <tr>\n",
       "      <th>Italy</th>\n",
       "      <td>213013</td>\n",
       "      <td>29315</td>\n",
       "      <td>85231</td>\n",
       "      <td>98467</td>\n",
       "      <td>13.762071</td>\n",
       "    </tr>\n",
       "    <tr>\n",
       "      <th>Netherlands</th>\n",
       "      <td>41286</td>\n",
       "      <td>5185</td>\n",
       "      <td>139</td>\n",
       "      <td>35962</td>\n",
       "      <td>12.558737</td>\n",
       "    </tr>\n",
       "    <tr>\n",
       "      <th>Sweden</th>\n",
       "      <td>23216</td>\n",
       "      <td>2854</td>\n",
       "      <td>4074</td>\n",
       "      <td>16288</td>\n",
       "      <td>12.293246</td>\n",
       "    </tr>\n",
       "    <tr>\n",
       "      <th>Spain</th>\n",
       "      <td>219329</td>\n",
       "      <td>25613</td>\n",
       "      <td>123486</td>\n",
       "      <td>70230</td>\n",
       "      <td>11.677890</td>\n",
       "    </tr>\n",
       "    <tr>\n",
       "      <th>Mexico</th>\n",
       "      <td>26025</td>\n",
       "      <td>2507</td>\n",
       "      <td>16810</td>\n",
       "      <td>6708</td>\n",
       "      <td>9.633045</td>\n",
       "    </tr>\n",
       "    <tr>\n",
       "      <th>Indonesia</th>\n",
       "      <td>12071</td>\n",
       "      <td>872</td>\n",
       "      <td>2197</td>\n",
       "      <td>9002</td>\n",
       "      <td>7.223925</td>\n",
       "    </tr>\n",
       "    <tr>\n",
       "      <th>Brazil</th>\n",
       "      <td>115455</td>\n",
       "      <td>7938</td>\n",
       "      <td>48221</td>\n",
       "      <td>59296</td>\n",
       "      <td>6.875406</td>\n",
       "    </tr>\n",
       "    <tr>\n",
       "      <th>Canada</th>\n",
       "      <td>63215</td>\n",
       "      <td>4190</td>\n",
       "      <td>27006</td>\n",
       "      <td>32019</td>\n",
       "      <td>6.628174</td>\n",
       "    </tr>\n",
       "    <tr>\n",
       "      <th>Iran</th>\n",
       "      <td>99970</td>\n",
       "      <td>6340</td>\n",
       "      <td>80475</td>\n",
       "      <td>13155</td>\n",
       "      <td>6.341903</td>\n",
       "    </tr>\n",
       "    <tr>\n",
       "      <th>Ireland</th>\n",
       "      <td>21983</td>\n",
       "      <td>1339</td>\n",
       "      <td>13386</td>\n",
       "      <td>7258</td>\n",
       "      <td>6.091070</td>\n",
       "    </tr>\n",
       "    <tr>\n",
       "      <th>Romania</th>\n",
       "      <td>13837</td>\n",
       "      <td>841</td>\n",
       "      <td>5454</td>\n",
       "      <td>7542</td>\n",
       "      <td>6.077907</td>\n",
       "    </tr>\n",
       "    <tr>\n",
       "      <th>Switzerland</th>\n",
       "      <td>30009</td>\n",
       "      <td>1795</td>\n",
       "      <td>25400</td>\n",
       "      <td>2814</td>\n",
       "      <td>5.981539</td>\n",
       "    </tr>\n",
       "    <tr>\n",
       "      <th>US</th>\n",
       "      <td>1204351</td>\n",
       "      <td>71064</td>\n",
       "      <td>189791</td>\n",
       "      <td>972526</td>\n",
       "      <td>5.900605</td>\n",
       "    </tr>\n",
       "    <tr>\n",
       "      <th>China</th>\n",
       "      <td>83968</td>\n",
       "      <td>4637</td>\n",
       "      <td>78870</td>\n",
       "      <td>461</td>\n",
       "      <td>5.522342</td>\n",
       "    </tr>\n",
       "    <tr>\n",
       "      <th>Denmark</th>\n",
       "      <td>10019</td>\n",
       "      <td>503</td>\n",
       "      <td>7492</td>\n",
       "      <td>2024</td>\n",
       "      <td>5.020461</td>\n",
       "    </tr>\n",
       "    <tr>\n",
       "      <th>Poland</th>\n",
       "      <td>14431</td>\n",
       "      <td>716</td>\n",
       "      <td>4280</td>\n",
       "      <td>9435</td>\n",
       "      <td>4.961541</td>\n",
       "    </tr>\n",
       "    <tr>\n",
       "      <th>Ecuador</th>\n",
       "      <td>31881</td>\n",
       "      <td>1569</td>\n",
       "      <td>3433</td>\n",
       "      <td>26879</td>\n",
       "      <td>4.921427</td>\n",
       "    </tr>\n",
       "    <tr>\n",
       "      <th>Germany</th>\n",
       "      <td>167007</td>\n",
       "      <td>6993</td>\n",
       "      <td>135100</td>\n",
       "      <td>24914</td>\n",
       "      <td>4.187250</td>\n",
       "    </tr>\n",
       "    <tr>\n",
       "      <th>Portugal</th>\n",
       "      <td>25702</td>\n",
       "      <td>1074</td>\n",
       "      <td>1743</td>\n",
       "      <td>22885</td>\n",
       "      <td>4.178663</td>\n",
       "    </tr>\n",
       "    <tr>\n",
       "      <th>Austria</th>\n",
       "      <td>15650</td>\n",
       "      <td>606</td>\n",
       "      <td>13462</td>\n",
       "      <td>1582</td>\n",
       "      <td>3.872204</td>\n",
       "    </tr>\n",
       "    <tr>\n",
       "      <th>Japan</th>\n",
       "      <td>15253</td>\n",
       "      <td>556</td>\n",
       "      <td>4496</td>\n",
       "      <td>10201</td>\n",
       "      <td>3.645185</td>\n",
       "    </tr>\n",
       "    <tr>\n",
       "      <th>India</th>\n",
       "      <td>49400</td>\n",
       "      <td>1693</td>\n",
       "      <td>14142</td>\n",
       "      <td>33565</td>\n",
       "      <td>3.427126</td>\n",
       "    </tr>\n",
       "    <tr>\n",
       "      <th>Peru</th>\n",
       "      <td>51189</td>\n",
       "      <td>1444</td>\n",
       "      <td>15413</td>\n",
       "      <td>34332</td>\n",
       "      <td>2.820919</td>\n",
       "    </tr>\n",
       "    <tr>\n",
       "      <th>Turkey</th>\n",
       "      <td>129491</td>\n",
       "      <td>3520</td>\n",
       "      <td>73285</td>\n",
       "      <td>52686</td>\n",
       "      <td>2.718336</td>\n",
       "    </tr>\n",
       "    <tr>\n",
       "      <th>Ukraine</th>\n",
       "      <td>12697</td>\n",
       "      <td>316</td>\n",
       "      <td>1875</td>\n",
       "      <td>10506</td>\n",
       "      <td>2.488777</td>\n",
       "    </tr>\n",
       "    <tr>\n",
       "      <th>Korea, South</th>\n",
       "      <td>10806</td>\n",
       "      <td>255</td>\n",
       "      <td>9333</td>\n",
       "      <td>1218</td>\n",
       "      <td>2.359800</td>\n",
       "    </tr>\n",
       "    <tr>\n",
       "      <th>Pakistan</th>\n",
       "      <td>22049</td>\n",
       "      <td>514</td>\n",
       "      <td>5801</td>\n",
       "      <td>15734</td>\n",
       "      <td>2.331171</td>\n",
       "    </tr>\n",
       "    <tr>\n",
       "      <th>Bangladesh</th>\n",
       "      <td>10929</td>\n",
       "      <td>183</td>\n",
       "      <td>1403</td>\n",
       "      <td>9343</td>\n",
       "      <td>1.674444</td>\n",
       "    </tr>\n",
       "    <tr>\n",
       "      <th>Israel</th>\n",
       "      <td>16289</td>\n",
       "      <td>238</td>\n",
       "      <td>10465</td>\n",
       "      <td>5586</td>\n",
       "      <td>1.461109</td>\n",
       "    </tr>\n",
       "    <tr>\n",
       "      <th>Chile</th>\n",
       "      <td>22016</td>\n",
       "      <td>275</td>\n",
       "      <td>10710</td>\n",
       "      <td>11031</td>\n",
       "      <td>1.249092</td>\n",
       "    </tr>\n",
       "    <tr>\n",
       "      <th>United Arab Emirates</th>\n",
       "      <td>15192</td>\n",
       "      <td>146</td>\n",
       "      <td>3153</td>\n",
       "      <td>11893</td>\n",
       "      <td>0.961032</td>\n",
       "    </tr>\n",
       "    <tr>\n",
       "      <th>Russia</th>\n",
       "      <td>155370</td>\n",
       "      <td>1451</td>\n",
       "      <td>19865</td>\n",
       "      <td>134054</td>\n",
       "      <td>0.933900</td>\n",
       "    </tr>\n",
       "    <tr>\n",
       "      <th>Saudi Arabia</th>\n",
       "      <td>30251</td>\n",
       "      <td>200</td>\n",
       "      <td>5431</td>\n",
       "      <td>24620</td>\n",
       "      <td>0.661135</td>\n",
       "    </tr>\n",
       "    <tr>\n",
       "      <th>Belarus</th>\n",
       "      <td>18350</td>\n",
       "      <td>107</td>\n",
       "      <td>3771</td>\n",
       "      <td>14472</td>\n",
       "      <td>0.583106</td>\n",
       "    </tr>\n",
       "    <tr>\n",
       "      <th>Singapore</th>\n",
       "      <td>19410</td>\n",
       "      <td>18</td>\n",
       "      <td>1519</td>\n",
       "      <td>17873</td>\n",
       "      <td>0.092736</td>\n",
       "    </tr>\n",
       "    <tr>\n",
       "      <th>Qatar</th>\n",
       "      <td>17142</td>\n",
       "      <td>12</td>\n",
       "      <td>1924</td>\n",
       "      <td>15206</td>\n",
       "      <td>0.070004</td>\n",
       "    </tr>\n",
       "  </tbody>\n",
       "</table>\n",
       "</div>"
      ],
      "text/plain": [
       "                      Confirmed  Deaths  Recovered  Active  Mortality_Rate\n",
       "Country                                                                   \n",
       "Belgium                   50509    8016      12441   30052       15.870439\n",
       "United Kingdom           196243   29501        926  165816       15.032893\n",
       "France                   170687   25537      52842   92308       14.961303\n",
       "Italy                    213013   29315      85231   98467       13.762071\n",
       "Netherlands               41286    5185        139   35962       12.558737\n",
       "Sweden                    23216    2854       4074   16288       12.293246\n",
       "Spain                    219329   25613     123486   70230       11.677890\n",
       "Mexico                    26025    2507      16810    6708        9.633045\n",
       "Indonesia                 12071     872       2197    9002        7.223925\n",
       "Brazil                   115455    7938      48221   59296        6.875406\n",
       "Canada                    63215    4190      27006   32019        6.628174\n",
       "Iran                      99970    6340      80475   13155        6.341903\n",
       "Ireland                   21983    1339      13386    7258        6.091070\n",
       "Romania                   13837     841       5454    7542        6.077907\n",
       "Switzerland               30009    1795      25400    2814        5.981539\n",
       "US                      1204351   71064     189791  972526        5.900605\n",
       "China                     83968    4637      78870     461        5.522342\n",
       "Denmark                   10019     503       7492    2024        5.020461\n",
       "Poland                    14431     716       4280    9435        4.961541\n",
       "Ecuador                   31881    1569       3433   26879        4.921427\n",
       "Germany                  167007    6993     135100   24914        4.187250\n",
       "Portugal                  25702    1074       1743   22885        4.178663\n",
       "Austria                   15650     606      13462    1582        3.872204\n",
       "Japan                     15253     556       4496   10201        3.645185\n",
       "India                     49400    1693      14142   33565        3.427126\n",
       "Peru                      51189    1444      15413   34332        2.820919\n",
       "Turkey                   129491    3520      73285   52686        2.718336\n",
       "Ukraine                   12697     316       1875   10506        2.488777\n",
       "Korea, South              10806     255       9333    1218        2.359800\n",
       "Pakistan                  22049     514       5801   15734        2.331171\n",
       "Bangladesh                10929     183       1403    9343        1.674444\n",
       "Israel                    16289     238      10465    5586        1.461109\n",
       "Chile                     22016     275      10710   11031        1.249092\n",
       "United Arab Emirates      15192     146       3153   11893        0.961032\n",
       "Russia                   155370    1451      19865  134054        0.933900\n",
       "Saudi Arabia              30251     200       5431   24620        0.661135\n",
       "Belarus                   18350     107       3771   14472        0.583106\n",
       "Singapore                 19410      18       1519   17873        0.092736\n",
       "Qatar                     17142      12       1924   15206        0.070004"
      ]
     },
     "execution_count": 63,
     "metadata": {},
     "output_type": "execute_result"
    }
   ],
   "source": [
    "#Extract Confirmed cases over 10000\n",
    "\n",
    "country_over_10000 = country_data.loc[country_data['Confirmed'] > 10000]\n",
    "country_over_10000 = country_over_10000.sort_values('Mortality_Rate', ascending= False)\n",
    "country_over_10000 = country_over_10000.set_index('Country')\n",
    "country_over_10000"
   ]
  },
  {
   "cell_type": "code",
   "execution_count": 64,
   "metadata": {},
   "outputs": [
    {
     "data": {
      "text/html": [
       "<div>\n",
       "<style scoped>\n",
       "    .dataframe tbody tr th:only-of-type {\n",
       "        vertical-align: middle;\n",
       "    }\n",
       "\n",
       "    .dataframe tbody tr th {\n",
       "        vertical-align: top;\n",
       "    }\n",
       "\n",
       "    .dataframe thead th {\n",
       "        text-align: right;\n",
       "    }\n",
       "</style>\n",
       "<table border=\"1\" class=\"dataframe\">\n",
       "  <thead>\n",
       "    <tr style=\"text-align: right;\">\n",
       "      <th></th>\n",
       "      <th>Confirmed</th>\n",
       "      <th>Deaths</th>\n",
       "      <th>Recovered</th>\n",
       "      <th>Active</th>\n",
       "      <th>Mortality_Rate</th>\n",
       "    </tr>\n",
       "    <tr>\n",
       "      <th>Country</th>\n",
       "      <th></th>\n",
       "      <th></th>\n",
       "      <th></th>\n",
       "      <th></th>\n",
       "      <th></th>\n",
       "    </tr>\n",
       "  </thead>\n",
       "  <tbody>\n",
       "    <tr>\n",
       "      <th>Australia</th>\n",
       "      <td>6875</td>\n",
       "      <td>97</td>\n",
       "      <td>5975</td>\n",
       "      <td>803</td>\n",
       "      <td>1.410909</td>\n",
       "    </tr>\n",
       "    <tr>\n",
       "      <th>Austria</th>\n",
       "      <td>15650</td>\n",
       "      <td>606</td>\n",
       "      <td>13462</td>\n",
       "      <td>1582</td>\n",
       "      <td>3.872204</td>\n",
       "    </tr>\n",
       "    <tr>\n",
       "      <th>Canada</th>\n",
       "      <td>63215</td>\n",
       "      <td>4190</td>\n",
       "      <td>27006</td>\n",
       "      <td>32019</td>\n",
       "      <td>6.628174</td>\n",
       "    </tr>\n",
       "    <tr>\n",
       "      <th>China</th>\n",
       "      <td>83968</td>\n",
       "      <td>4637</td>\n",
       "      <td>78870</td>\n",
       "      <td>461</td>\n",
       "      <td>5.522342</td>\n",
       "    </tr>\n",
       "    <tr>\n",
       "      <th>Denmark</th>\n",
       "      <td>10019</td>\n",
       "      <td>503</td>\n",
       "      <td>7492</td>\n",
       "      <td>2024</td>\n",
       "      <td>5.020461</td>\n",
       "    </tr>\n",
       "  </tbody>\n",
       "</table>\n",
       "</div>"
      ],
      "text/plain": [
       "           Confirmed  Deaths  Recovered  Active  Mortality_Rate\n",
       "Country                                                        \n",
       "Australia       6875      97       5975     803        1.410909\n",
       "Austria        15650     606      13462    1582        3.872204\n",
       "Canada         63215    4190      27006   32019        6.628174\n",
       "China          83968    4637      78870     461        5.522342\n",
       "Denmark        10019     503       7492    2024        5.020461"
      ]
     },
     "execution_count": 64,
     "metadata": {},
     "output_type": "execute_result"
    }
   ],
   "source": [
    "#Make new dataframe to set index as 'Country'\n",
    "\n",
    "country_data_sorted=pd.DataFrame(country_data.set_index('Country'))\n",
    "country_data_sorted.head()"
   ]
  },
  {
   "cell_type": "code",
   "execution_count": 65,
   "metadata": {},
   "outputs": [
    {
     "data": {
      "image/png": "[encoded data removed]",
      "text/plain": [
       "<Figure size 864x576 with 1 Axes>"
      ]
     },
     "metadata": {
      "needs_background": "light"
     },
     "output_type": "display_data"
    }
   ],
   "source": [
    "#Bar graph shows Highest Mortality Rates\n",
    "\n",
    "fig = plt.figure(figsize=(12,8))\n",
    "fig.add_subplot()\n",
    "\n",
    "plt.barh(country_over_10000.sort_values('Mortality_Rate')['Mortality_Rate'].index[-15:], country_over_10000.sort_values('Mortality_Rate')['Mortality_Rate'].values[-15:], color='pink')\n",
    "plt.title('Countries with the Highest Mortality Rates', fontsize = 18)\n",
    "plt.xlabel('Mortality Rate', fontsize=14)\n",
    "plt.ylabel('Country (> 10,000 confirmed)', fontsize=14)\n",
    "\n",
    "plt.show()\n"
   ]
  },
  {
   "cell_type": "code",
   "execution_count": 66,
   "metadata": {},
   "outputs": [
    {
     "data": {
      "image/png": "[encoded data removed]",
      "text/plain": [
       "<Figure size 864x576 with 1 Axes>"
      ]
     },
     "metadata": {
      "needs_background": "light"
     },
     "output_type": "display_data"
    }
   ],
   "source": [
    "#Bar graph shows top 10 Countries with Confirmed Cases\n",
    "\n",
    "fig = plt.figure(figsize=(12,8))\n",
    "fig.add_subplot()\n",
    "\n",
    "plt.barh(country_data_sorted.sort_values('Confirmed')['Confirmed'].index[-10:], \n",
    "         country_data_sorted.sort_values('Confirmed')['Confirmed'].values[-10:], color='Green')\n",
    "plt.xlabel('Confirmed Cases', fontsize=14)\n",
    "plt.title('Top 10 Countries with Confirmed Cases', fontsize=18)\n",
    "\n",
    "plt.show()"
   ]
  },
  {
   "cell_type": "code",
   "execution_count": 67,
   "metadata": {},
   "outputs": [
    {
     "data": {
      "image/png": "[encoded data removed]",
      "text/plain": [
       "<Figure size 864x576 with 1 Axes>"
      ]
     },
     "metadata": {
      "needs_background": "light"
     },
     "output_type": "display_data"
    }
   ],
   "source": [
    "#Bar graph shows top 10 Countries with Active Cases\n",
    "\n",
    "fig = plt.figure(figsize=(12,8))\n",
    "fig.add_subplot()\n",
    "\n",
    "plt.barh(country_data_sorted.sort_values('Active')['Active'].index[-10:], \n",
    "         country_data_sorted.sort_values('Active')['Active'].values[-10:], color='Orange')\n",
    "plt.xlabel('Active Cases', fontsize=14)\n",
    "plt.title('Top 10 Countries with Active Cases', fontsize=18)\n",
    "\n",
    "plt.show()"
   ]
  },
  {
   "cell_type": "code",
   "execution_count": 68,
   "metadata": {},
   "outputs": [
    {
     "data": {
      "image/png": "[encoded data removed]",
      "text/plain": [
       "<Figure size 864x576 with 1 Axes>"
      ]
     },
     "metadata": {
      "needs_background": "light"
     },
     "output_type": "display_data"
    }
   ],
   "source": [
    "#Bar graph shows top 10 Countries with Death Cases\n",
    "\n",
    "fig = plt.figure(figsize=(12,8))\n",
    "fig.add_subplot()\n",
    "\n",
    "plt.barh(country_data_sorted.sort_values('Deaths')['Deaths'].index[-10:], \n",
    "         country_data_sorted.sort_values('Deaths')['Deaths'].values[-10:], color='Red')\n",
    "plt.xlabel('Death Cases', fontsize=14)\n",
    "plt.title('Top 10 Countries with Death Cases', fontsize=18)\n",
    "\n",
    "plt.show()"
   ]
  },
  {
   "cell_type": "code",
   "execution_count": 69,
   "metadata": {},
   "outputs": [
    {
     "data": {
      "image/png": "[encoded data removed]",
      "text/plain": [
       "<Figure size 864x576 with 1 Axes>"
      ]
     },
     "metadata": {
      "needs_background": "light"
     },
     "output_type": "display_data"
    }
   ],
   "source": [
    "#Bar graph shows top 10 Countries with Recovered Cases\n",
    "\n",
    "fig = plt.figure(figsize=(12,8))\n",
    "fig.add_subplot()\n",
    "\n",
    "plt.barh(country_data_sorted.sort_values('Recovered')['Recovered'].index[-10:], \n",
    "         country_data_sorted.sort_values('Recovered')['Recovered'].values[-10:], color='Purple')\n",
    "plt.xlabel('Recovered Cases', fontsize=14)\n",
    "plt.title('Top 10 Countries with Recovered Cases', fontsize=18)\n",
    "\n",
    "plt.show()"
   ]
  },
  {
   "cell_type": "markdown",
   "metadata": {},
   "source": [
    "## Map Visualization"
   ]
  },
  {
   "cell_type": "code",
   "execution_count": 70,
   "metadata": {},
   "outputs": [
    {
     "data": {
      "text/html": [
       "<div style=\"width:100%;\"><div style=\"position:relative;width:100%;height:0;padding-bottom:60%;\"><iframe src=\"about:blank\" style=\"position:absolute;width:100%;height:100%;left:0;top:0;border:none !important;\" data-html=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 onload=\"this.contentDocument.open();this.contentDocument.write(atob(this.getAttribute('data-html')));this.contentDocument.close();\" allowfullscreen webkitallowfullscreen mozallowfullscreen></iframe></div></div>"
      ],
      "text/plain": [
       "<folium.folium.Map at 0x20d99400>"
      ]
     },
     "execution_count": 70,
     "metadata": {},
     "output_type": "execute_result"
    }
   ],
   "source": [
    "global_covid19_map = folium.Map(location=[10,0], tiles='OpenStreetMap', zoom_start=2)\n",
    "\n",
    "#Shows the Magnitude of Confirmed Cases and also calculated Mortality Rate\n",
    "\n",
    "for i in range(0, len(confirmed_data)):\n",
    "    folium.Circle(\n",
    "        location=[confirmed_data.iloc[i]['Lat'], confirmed_data.iloc[i]['Long']],\n",
    "                  tooltip = \"<h5 style= 'text-align:center;font-weight: bold'>\" +\n",
    "                confirmed_data.iloc[i]['Country'] + \"</h5>\" + \"<div style='text-align:center;'>\"+str(np.nan_to_num(confirmed_data.iloc[i]['State']))+\"</div>\"+\n",
    "                    \"<hr style='margin:10px;'>\"+\n",
    "                    \"<ul style='color: #44;list-style-type:circle;align-item:left;padding-left:20px;padding-right:20px'>\"+\n",
    "        \"<li>Confirmed: \"+str(confirmed_data.iloc[i,-1])+\"</li>\"+\n",
    "        \"<li>Deaths:   \"+str(death_data.iloc[i, -1])+\"</li>\" + \n",
    "        \"<li>Mortality Rate:   \"+str(np.round(death_data.iloc[i,-1]/(confirmed_data.iloc[i,-1]+1.00001)*100,2))+\"</li>\"+\n",
    "        \"</ul>\"\n",
    "        , radius=(int((np.log(confirmed_data.iloc[i,-1] + 1.00001)))+ 0.2) * 50000,\n",
    "        color='blue',\n",
    "        fill_color = 'blue',\n",
    "        fill_opacity = 0.5, \n",
    "        fill=True).add_to(global_covid19_map)\n",
    "    \n",
    "global_covid19_map"
   ]
  },
  {
   "cell_type": "code",
   "execution_count": 71,
   "metadata": {},
   "outputs": [
    {
     "data": {
      "text/html": [
       "<div>\n",
       "<style scoped>\n",
       "    .dataframe tbody tr th:only-of-type {\n",
       "        vertical-align: middle;\n",
       "    }\n",
       "\n",
       "    .dataframe tbody tr th {\n",
       "        vertical-align: top;\n",
       "    }\n",
       "\n",
       "    .dataframe thead th {\n",
       "        text-align: right;\n",
       "    }\n",
       "</style>\n",
       "<table border=\"1\" class=\"dataframe\">\n",
       "  <thead>\n",
       "    <tr style=\"text-align: right;\">\n",
       "      <th></th>\n",
       "      <th>Country</th>\n",
       "      <th>Last_Update</th>\n",
       "      <th>Confirmed</th>\n",
       "      <th>Deaths</th>\n",
       "      <th>Recovered</th>\n",
       "      <th>Active</th>\n",
       "    </tr>\n",
       "  </thead>\n",
       "  <tbody>\n",
       "    <tr>\n",
       "      <th>0</th>\n",
       "      <td>Australia</td>\n",
       "      <td>05/06/2020</td>\n",
       "      <td>6875</td>\n",
       "      <td>97</td>\n",
       "      <td>5975</td>\n",
       "      <td>803</td>\n",
       "    </tr>\n",
       "    <tr>\n",
       "      <th>1</th>\n",
       "      <td>Austria</td>\n",
       "      <td>05/06/2020</td>\n",
       "      <td>15650</td>\n",
       "      <td>606</td>\n",
       "      <td>13462</td>\n",
       "      <td>1582</td>\n",
       "    </tr>\n",
       "    <tr>\n",
       "      <th>2</th>\n",
       "      <td>Canada</td>\n",
       "      <td>05/06/2020</td>\n",
       "      <td>63215</td>\n",
       "      <td>4190</td>\n",
       "      <td>27006</td>\n",
       "      <td>32019</td>\n",
       "    </tr>\n",
       "    <tr>\n",
       "      <th>3</th>\n",
       "      <td>China</td>\n",
       "      <td>05/06/2020</td>\n",
       "      <td>83968</td>\n",
       "      <td>4637</td>\n",
       "      <td>78870</td>\n",
       "      <td>461</td>\n",
       "    </tr>\n",
       "    <tr>\n",
       "      <th>4</th>\n",
       "      <td>Denmark</td>\n",
       "      <td>05/06/2020</td>\n",
       "      <td>10019</td>\n",
       "      <td>503</td>\n",
       "      <td>7492</td>\n",
       "      <td>2024</td>\n",
       "    </tr>\n",
       "  </tbody>\n",
       "</table>\n",
       "</div>"
      ],
      "text/plain": [
       "     Country Last_Update  Confirmed  Deaths  Recovered  Active\n",
       "0  Australia  05/06/2020       6875      97       5975     803\n",
       "1    Austria  05/06/2020      15650     606      13462    1582\n",
       "2     Canada  05/06/2020      63215    4190      27006   32019\n",
       "3      China  05/06/2020      83968    4637      78870     461\n",
       "4    Denmark  05/06/2020      10019     503       7492    2024"
      ]
     },
     "execution_count": 71,
     "metadata": {},
     "output_type": "execute_result"
    }
   ],
   "source": [
    "#For Scatter, remove 'Country' as Index\n",
    "\n",
    "covid19_country=covid19_country_data.copy().drop(['Lat','Long_','Incident_Rate','People_Tested','People_Hospitalized','Mortality_Rate','UID','ISO3'],axis=1)\n",
    "covid19_country['Last_Update'] = pd.to_datetime(covid19_country['Last_Update']).dt.strftime('%m/%d/%Y')\n",
    "covid19_country.head()"
   ]
  },
  {
   "cell_type": "code",
   "execution_count": 72,
   "metadata": {},
   "outputs": [
    {
     "data": {
      "application/vnd.plotly.v1+json": {
       "config": {
        "plotlyServerURL": "https://plot.ly"
       },
       "data": [
        {
         "customdata": [
          [
           6875
          ],
          [
           15650
          ],
          [
           63215
          ],
          [
           83968
          ],
          [
           10019
          ],
          [
           5412
          ],
          [
           170687
          ],
          [
           167007
          ],
          [
           1799
          ],
          [
           21983
          ],
          [
           213013
          ],
          [
           41286
          ],
          [
           7955
          ],
          [
           155370
          ],
          [
           23216
          ],
          [
           30009
          ],
          [
           196243
          ],
          [
           1204351
          ],
          [
           3224
          ],
          [
           820
          ],
          [
           4838
          ],
          [
           751
          ],
          [
           36
          ],
          [
           25
          ],
          [
           5020
          ],
          [
           2619
          ],
          [
           2060
          ],
          [
           89
          ],
          [
           3720
          ],
          [
           10929
          ],
          [
           82
          ],
          [
           18350
          ],
          [
           50509
          ],
          [
           18
          ],
          [
           96
          ],
          [
           7
          ],
          [
           1802
          ],
          [
           1946
          ],
          [
           23
          ],
          [
           115455
          ],
          [
           138
          ],
          [
           1704
          ],
          [
           688
          ],
          [
           161
          ],
          [
           15
          ],
          [
           186
          ],
          [
           122
          ],
          [
           2104
          ],
          [
           85
          ],
          [
           170
          ],
          [
           22016
          ],
          [
           8613
          ],
          [
           3
          ],
          [
           236
          ],
          [
           705
          ],
          [
           755
          ],
          [
           1464
          ],
          [
           2112
          ],
          [
           1685
          ],
          [
           878
          ],
          [
           7896
          ],
          [
           712
          ],
          [
           1120
          ],
          [
           16
          ],
          [
           8480
          ],
          [
           31881
          ],
          [
           7201
          ],
          [
           587
          ],
          [
           315
          ],
          [
           39
          ],
          [
           1711
          ],
          [
           119
          ],
          [
           145
          ],
          [
           18
          ],
          [
           397
          ],
          [
           17
          ],
          [
           604
          ],
          [
           2719
          ],
          [
           2642
          ],
          [
           21
          ],
          [
           763
          ],
          [
           1811
          ],
          [
           413
          ],
          [
           93
          ],
          [
           101
          ],
          [
           11
          ],
          [
           1270
          ],
          [
           3065
          ],
          [
           49400
          ],
          [
           12071
          ],
          [
           99970
          ],
          [
           2431
          ],
          [
           16289
          ],
          [
           473
          ],
          [
           15253
          ],
          [
           471
          ],
          [
           4205
          ],
          [
           535
          ],
          [
           10806
          ],
          [
           856
          ],
          [
           5804
          ],
          [
           843
          ],
          [
           19
          ],
          [
           896
          ],
          [
           741
          ],
          [
           170
          ],
          [
           63
          ],
          [
           82
          ],
          [
           1423
          ],
          [
           3840
          ],
          [
           9
          ],
          [
           151
          ],
          [
           41
          ],
          [
           6383
          ],
          [
           573
          ],
          [
           612
          ],
          [
           482
          ],
          [
           8
          ],
          [
           332
          ],
          [
           26025
          ],
          [
           4363
          ],
          [
           95
          ],
          [
           41
          ],
          [
           324
          ],
          [
           5219
          ],
          [
           81
          ],
          [
           16
          ],
          [
           82
          ],
          [
           1488
          ],
          [
           16
          ],
          [
           763
          ],
          [
           2950
          ],
          [
           1526
          ],
          [
           2735
          ],
          [
           22049
          ],
          [
           7523
          ],
          [
           8
          ],
          [
           431
          ],
          [
           51189
          ],
          [
           9684
          ],
          [
           14431
          ],
          [
           25702
          ],
          [
           17142
          ],
          [
           13837
          ],
          [
           261
          ],
          [
           15
          ],
          [
           18
          ],
          [
           17
          ],
          [
           589
          ],
          [
           174
          ],
          [
           30251
          ],
          [
           1329
          ],
          [
           9677
          ],
          [
           11
          ],
          [
           199
          ],
          [
           19410
          ],
          [
           1421
          ],
          [
           1445
          ],
          [
           835
          ],
          [
           7572
          ],
          [
           52
          ],
          [
           219329
          ],
          [
           771
          ],
          [
           778
          ],
          [
           10
          ],
          [
           44
          ],
          [
           438
          ],
          [
           293
          ],
          [
           480
          ],
          [
           2988
          ],
          [
           24
          ],
          [
           128
          ],
          [
           116
          ],
          [
           1022
          ],
          [
           129491
          ],
          [
           98
          ],
          [
           12697
          ],
          [
           15192
          ],
          [
           670
          ],
          [
           2207
          ],
          [
           361
          ],
          [
           271
          ],
          [
           371
          ],
          [
           6
          ],
          [
           22
          ],
          [
           138
          ],
          [
           34
          ]
         ],
         "geo": "geo",
         "hovertemplate": "<b>%{hovertext}</b><br><br>Last_Update=05/06/2020<br>Confirmed=%{customdata[0]}<br>Country=%{location}<br>color=%{marker.color}<extra></extra>",
         "hovertext": [
          "Australia",
          "Austria",
          "Canada",
          "China",
          "Denmark",
          "Finland",
          "France",
          "Germany",
          "Iceland",
          "Ireland",
          "Italy",
          "Netherlands",
          "Norway",
          "Russia",
          "Sweden",
          "Switzerland",
          "United Kingdom",
          "US",
          "Afghanistan",
          "Albania",
          "Algeria",
          "Andorra",
          "Angola",
          "Antigua and Barbuda",
          "Argentina",
          "Armenia",
          "Azerbaijan",
          "Bahamas",
          "Bahrain",
          "Bangladesh",
          "Barbados",
          "Belarus",
          "Belgium",
          "Belize",
          "Benin",
          "Bhutan",
          "Bolivia",
          "Bosnia and Herzegovina",
          "Botswana",
          "Brazil",
          "Brunei",
          "Bulgaria",
          "Burkina Faso",
          "Burma",
          "Burundi",
          "Cabo Verde",
          "Cambodia",
          "Cameroon",
          "Central African Republic",
          "Chad",
          "Chile",
          "Colombia",
          "Comoros",
          "Congo (Brazzaville)",
          "Congo (Kinshasa)",
          "Costa Rica",
          "Cote d'Ivoire",
          "Croatia",
          "Cuba",
          "Cyprus",
          "Czechia",
          "Diamond Princess",
          "Djibouti",
          "Dominica",
          "Dominican Republic",
          "Ecuador",
          "Egypt",
          "El Salvador",
          "Equatorial Guinea",
          "Eritrea",
          "Estonia",
          "Eswatini",
          "Ethiopia",
          "Fiji",
          "Gabon",
          "Gambia",
          "Georgia",
          "Ghana",
          "Greece",
          "Grenada",
          "Guatemala",
          "Guinea",
          "Guinea-Bissau",
          "Guyana",
          "Haiti",
          "Holy See",
          "Honduras",
          "Hungary",
          "India",
          "Indonesia",
          "Iran",
          "Iraq",
          "Israel",
          "Jamaica",
          "Japan",
          "Jordan",
          "Kazakhstan",
          "Kenya",
          "Korea, South",
          "Kosovo",
          "Kuwait",
          "Kyrgyzstan",
          "Laos",
          "Latvia",
          "Lebanon",
          "Liberia",
          "Libya",
          "Liechtenstein",
          "Lithuania",
          "Luxembourg",
          "MS Zaandam",
          "Madagascar",
          "Malawi",
          "Malaysia",
          "Maldives",
          "Mali",
          "Malta",
          "Mauritania",
          "Mauritius",
          "Mexico",
          "Moldova",
          "Monaco",
          "Mongolia",
          "Montenegro",
          "Morocco",
          "Mozambique",
          "Namibia",
          "Nepal",
          "New Zealand",
          "Nicaragua",
          "Niger",
          "Nigeria",
          "North Macedonia",
          "Oman",
          "Pakistan",
          "Panama",
          "Papua New Guinea",
          "Paraguay",
          "Peru",
          "Philippines",
          "Poland",
          "Portugal",
          "Qatar",
          "Romania",
          "Rwanda",
          "Saint Kitts and Nevis",
          "Saint Lucia",
          "Saint Vincent and the Grenadines",
          "San Marino",
          "Sao Tome and Principe",
          "Saudi Arabia",
          "Senegal",
          "Serbia",
          "Seychelles",
          "Sierra Leone",
          "Singapore",
          "Slovakia",
          "Slovenia",
          "Somalia",
          "South Africa",
          "South Sudan",
          "Spain",
          "Sri Lanka",
          "Sudan",
          "Suriname",
          "Syria",
          "Taiwan*",
          "Tajikistan",
          "Tanzania",
          "Thailand",
          "Timor-Leste",
          "Togo",
          "Trinidad and Tobago",
          "Tunisia",
          "Turkey",
          "Uganda",
          "Ukraine",
          "United Arab Emirates",
          "Uruguay",
          "Uzbekistan",
          "Venezuela",
          "Vietnam",
          "West Bank and Gaza",
          "Western Sahara",
          "Yemen",
          "Zambia",
          "Zimbabwe"
         ],
         "legendgroup": "",
         "locationmode": "country names",
         "locations": [
          "Australia",
          "Austria",
          "Canada",
          "China",
          "Denmark",
          "Finland",
          "France",
          "Germany",
          "Iceland",
          "Ireland",
          "Italy",
          "Netherlands",
          "Norway",
          "Russia",
          "Sweden",
          "Switzerland",
          "United Kingdom",
          "US",
          "Afghanistan",
          "Albania",
          "Algeria",
          "Andorra",
          "Angola",
          "Antigua and Barbuda",
          "Argentina",
          "Armenia",
          "Azerbaijan",
          "Bahamas",
          "Bahrain",
          "Bangladesh",
          "Barbados",
          "Belarus",
          "Belgium",
          "Belize",
          "Benin",
          "Bhutan",
          "Bolivia",
          "Bosnia and Herzegovina",
          "Botswana",
          "Brazil",
          "Brunei",
          "Bulgaria",
          "Burkina Faso",
          "Burma",
          "Burundi",
          "Cabo Verde",
          "Cambodia",
          "Cameroon",
          "Central African Republic",
          "Chad",
          "Chile",
          "Colombia",
          "Comoros",
          "Congo (Brazzaville)",
          "Congo (Kinshasa)",
          "Costa Rica",
          "Cote d'Ivoire",
          "Croatia",
          "Cuba",
          "Cyprus",
          "Czechia",
          "Diamond Princess",
          "Djibouti",
          "Dominica",
          "Dominican Republic",
          "Ecuador",
          "Egypt",
          "El Salvador",
          "Equatorial Guinea",
          "Eritrea",
          "Estonia",
          "Eswatini",
          "Ethiopia",
          "Fiji",
          "Gabon",
          "Gambia",
          "Georgia",
          "Ghana",
          "Greece",
          "Grenada",
          "Guatemala",
          "Guinea",
          "Guinea-Bissau",
          "Guyana",
          "Haiti",
          "Holy See",
          "Honduras",
          "Hungary",
          "India",
          "Indonesia",
          "Iran",
          "Iraq",
          "Israel",
          "Jamaica",
          "Japan",
          "Jordan",
          "Kazakhstan",
          "Kenya",
          "Korea, South",
          "Kosovo",
          "Kuwait",
          "Kyrgyzstan",
          "Laos",
          "Latvia",
          "Lebanon",
          "Liberia",
          "Libya",
          "Liechtenstein",
          "Lithuania",
          "Luxembourg",
          "MS Zaandam",
          "Madagascar",
          "Malawi",
          "Malaysia",
          "Maldives",
          "Mali",
          "Malta",
          "Mauritania",
          "Mauritius",
          "Mexico",
          "Moldova",
          "Monaco",
          "Mongolia",
          "Montenegro",
          "Morocco",
          "Mozambique",
          "Namibia",
          "Nepal",
          "New Zealand",
          "Nicaragua",
          "Niger",
          "Nigeria",
          "North Macedonia",
          "Oman",
          "Pakistan",
          "Panama",
          "Papua New Guinea",
          "Paraguay",
          "Peru",
          "Philippines",
          "Poland",
          "Portugal",
          "Qatar",
          "Romania",
          "Rwanda",
          "Saint Kitts and Nevis",
          "Saint Lucia",
          "Saint Vincent and the Grenadines",
          "San Marino",
          "Sao Tome and Principe",
          "Saudi Arabia",
          "Senegal",
          "Serbia",
          "Seychelles",
          "Sierra Leone",
          "Singapore",
          "Slovakia",
          "Slovenia",
          "Somalia",
          "South Africa",
          "South Sudan",
          "Spain",
          "Sri Lanka",
          "Sudan",
          "Suriname",
          "Syria",
          "Taiwan*",
          "Tajikistan",
          "Tanzania",
          "Thailand",
          "Timor-Leste",
          "Togo",
          "Trinidad and Tobago",
          "Tunisia",
          "Turkey",
          "Uganda",
          "Ukraine",
          "United Arab Emirates",
          "Uruguay",
          "Uzbekistan",
          "Venezuela",
          "Vietnam",
          "West Bank and Gaza",
          "Western Sahara",
          "Yemen",
          "Zambia",
          "Zimbabwe"
         ],
         "marker": {
          "color": [
           12.163866044756046,
           16.128184081798352,
           25.557895102108084,
           28.00779903948331,
           13.857959814730348,
           11.182790075729319,
           35.124459001427184,
           34.88250435939538,
           7.473475777190314,
           18.073637999114823,
           37.67544738954331,
           22.25162490496953,
           12.797626292004887,
           34.09193360137623,
           18.404982118686434,
           20.03816635734468,
           36.71134423877541,
           64.71537373759737,
           9.2854403585278,
           5.484178822330049,
           10.746758542879396,
           5.289403334337252,
           0.9301560515835212,
           0.626527804403767,
           10.888759356665132,
           8.603290244224409,
           7.866432887385013,
           1.8442976132762077,
           9.780477169834171,
           14.276991166370987,
           1.7509748799354141,
           17.01475878987713,
           23.763842234042983,
           0.38002627459644067,
           1.932614443274868,
           -0.2072100374790029,
           7.478212384503964,
           7.699354906601894,
           0.5616415021458128,
           31.015951939986785,
           2.384940713986203,
           7.320535761798265,
           5.100297264285194,
           2.5924851726242224,
           0.2533433808426553,
           2.795720712826159,
           2.2257903711989915,
           7.929187700640867,
           1.7916276156517368,
           2.668041156493941,
           18.08267337606541,
           13.154664777032023,
           -0.6096108296840907,
           3.1507871183298652,
           5.152481367057622,
           5.3010292018736385,
           6.905582331368953,
           7.940498729938096,
           7.289235464555739,
           5.639208345346838,
           12.764615511680407,
           5.173713004945817,
           6.21798618411977,
           0.29739670999406975,
           13.084077520490439,
           20.44189781663525,
           12.362096593198626,
           4.7700430507310205,
           3.6168543985602044,
           1.001368927744568,
           7.332005860576924,
           2.194344406353294,
           2.450516348093168,
           0.38002627459644067,
           4.02056364819561,
           0.33956263368145123,
           4.828276228559952,
           8.723159410929938,
           8.631140162347785,
           0.4926757485402593,
           5.32415221314687,
           7.492389168506648,
           4.092352388866553,
           1.8953356412482822,
           1.9929733546852777,
           0.05313641365884392,
           6.5337735880467065,
           9.115503599768422,
           23.592816610384844,
           14.769610477256311,
           29.619930252903586,
           8.368966888919024,
           16.3471379756592,
           4.345390327099334,
           15.988981745121603,
           4.33732926553518,
           10.22164880892377,
           4.584247304253945,
           14.221816670910155,
           5.581272888831297,
           11.462267662393101,
           5.546546847181408,
           0.4189454814875875,
           5.685858822925761,
           5.2601478060449685,
           2.668041156493941,
           1.4657893658794796,
           1.7509748799354141,
           6.8300155832956495,
           9.893217666838488,
           -0.06681795506823729,
           2.50498225026368,
           1.0467383348995831,
           11.851839581424462,
           4.721193312360746,
           4.855283609140385,
           4.381372720813239,
           -0.13393401692638518,
           3.706126890774926,
           19.116270731736428,
           10.357640700059624,
           1.9202799516130091,
           1.0467383348995831,
           3.6645250677694117,
           11.039957893836482,
           1.7371928188465517,
           0.29739670999406975,
           1.7509748799354141,
           6.949131286526445,
           0.29739670999406975,
           5.32415221314687,
           8.98870728260208,
           7.017089079703574,
           8.742050734301754,
           18.091699277731916,
           12.551820150793267,
           -0.13393401692638518,
           4.170824299889838,
           23.867412794638813,
           13.696991902301457,
           15.692488745150069,
           19.037303660941305,
           16.630239896778487,
           15.470791560132355,
           3.3087485111690436,
           0.2533433808426553,
           0.38002627459644067,
           0.33956263368145123,
           4.776954790387344,
           2.700724236721369,
           20.091332924241556,
           6.650824355475647,
           13.693587108203223,
           0.05313641365884392,
           2.893909375689346,
           17.33782655414769,
           6.8262906236214835,
           6.870750290413499,
           5.524990268829178,
           12.580189936621272,
           1.2719073933511478,
           38.02476747538999,
           5.347106131347071,
           5.367054439036918,
           -0.0047376850311204866,
           1.1119728754884552,
           4.2007216045734435,
           3.496171630586563,
           4.3734175397426505,
           9.030982051348392,
           0.594557933960465,
           2.2870938501451725,
           2.162338506563337,
           5.995309292103138,
           32.172116273905374,
           1.9570161493329823,
           15.02591009885531,
           15.967368934522117,
           5.044050175165095,
           8.07257940982462,
           3.851297242409216,
           3.3689676509247066,
           3.899458805259137,
           -0.28823014059029495,
           0.5277074255111027,
           2.384940713986203,
           0.8803394661274377
          ],
          "coloraxis": "coloraxis"
         },
         "name": "",
         "showlegend": false,
         "type": "scattergeo"
        }
       ],
       "layout": {
        "coloraxis": {
         "colorbar": {
          "title": {
           "text": "color"
          }
         },
         "colorscale": [
          [
           0,
           "rgb(0,0,0)"
          ],
          [
           0.3333333333333333,
           "rgb(230,0,0)"
          ],
          [
           0.6666666666666666,
           "rgb(255,210,0)"
          ],
          [
           1,
           "rgb(255,255,255)"
          ]
         ],
         "showscale": false
        },
        "geo": {
         "center": {},
         "domain": {
          "x": [
           0,
           1
          ],
          "y": [
           0,
           1
          ]
         },
         "projection": {
          "type": "natural earth"
         }
        },
        "legend": {
         "tracegroupgap": 0
        },
        "template": {
         "data": {
          "bar": [
           {
            "error_x": {
             "color": "#2a3f5f"
            },
            "error_y": {
             "color": "#2a3f5f"
            },
            "marker": {
             "line": {
              "color": "#E5ECF6",
              "width": 0.5
             }
            },
            "type": "bar"
           }
          ],
          "barpolar": [
           {
            "marker": {
             "line": {
              "color": "#E5ECF6",
              "width": 0.5
             }
            },
            "type": "barpolar"
           }
          ],
          "carpet": [
           {
            "aaxis": {
             "endlinecolor": "#2a3f5f",
             "gridcolor": "white",
             "linecolor": "white",
             "minorgridcolor": "white",
             "startlinecolor": "#2a3f5f"
            },
            "baxis": {
             "endlinecolor": "#2a3f5f",
             "gridcolor": "white",
             "linecolor": "white",
             "minorgridcolor": "white",
             "startlinecolor": "#2a3f5f"
            },
            "type": "carpet"
           }
          ],
          "choropleth": [
           {
            "colorbar": {
             "outlinewidth": 0,
             "ticks": ""
            },
            "type": "choropleth"
           }
          ],
          "contour": [
           {
            "colorbar": {
             "outlinewidth": 0,
             "ticks": ""
            },
            "colorscale": [
             [
              0,
              "#0d0887"
             ],
             [
              0.1111111111111111,
              "#46039f"
             ],
             [
              0.2222222222222222,
              "#7201a8"
             ],
             [
              0.3333333333333333,
              "#9c179e"
             ],
             [
              0.4444444444444444,
              "#bd3786"
             ],
             [
              0.5555555555555556,
              "#d8576b"
             ],
             [
              0.6666666666666666,
              "#ed7953"
             ],
             [
              0.7777777777777778,
              "#fb9f3a"
             ],
             [
              0.8888888888888888,
              "#fdca26"
             ],
             [
              1,
              "#f0f921"
             ]
            ],
            "type": "contour"
           }
          ],
          "contourcarpet": [
           {
            "colorbar": {
             "outlinewidth": 0,
             "ticks": ""
            },
            "type": "contourcarpet"
           }
          ],
          "heatmap": [
           {
            "colorbar": {
             "outlinewidth": 0,
             "ticks": ""
            },
            "colorscale": [
             [
              0,
              "#0d0887"
             ],
             [
              0.1111111111111111,
              "#46039f"
             ],
             [
              0.2222222222222222,
              "#7201a8"
             ],
             [
              0.3333333333333333,
              "#9c179e"
             ],
             [
              0.4444444444444444,
              "#bd3786"
             ],
             [
              0.5555555555555556,
              "#d8576b"
             ],
             [
              0.6666666666666666,
              "#ed7953"
             ],
             [
              0.7777777777777778,
              "#fb9f3a"
             ],
             [
              0.8888888888888888,
              "#fdca26"
             ],
             [
              1,
              "#f0f921"
             ]
            ],
            "type": "heatmap"
           }
          ],
          "heatmapgl": [
           {
            "colorbar": {
             "outlinewidth": 0,
             "ticks": ""
            },
            "colorscale": [
             [
              0,
              "#0d0887"
             ],
             [
              0.1111111111111111,
              "#46039f"
             ],
             [
              0.2222222222222222,
              "#7201a8"
             ],
             [
              0.3333333333333333,
              "#9c179e"
             ],
             [
              0.4444444444444444,
              "#bd3786"
             ],
             [
              0.5555555555555556,
              "#d8576b"
             ],
             [
              0.6666666666666666,
              "#ed7953"
             ],
             [
              0.7777777777777778,
              "#fb9f3a"
             ],
             [
              0.8888888888888888,
              "#fdca26"
             ],
             [
              1,
              "#f0f921"
             ]
            ],
            "type": "heatmapgl"
           }
          ],
          "histogram": [
           {
            "marker": {
             "colorbar": {
              "outlinewidth": 0,
              "ticks": ""
             }
            },
            "type": "histogram"
           }
          ],
          "histogram2d": [
           {
            "colorbar": {
             "outlinewidth": 0,
             "ticks": ""
            },
            "colorscale": [
             [
              0,
              "#0d0887"
             ],
             [
              0.1111111111111111,
              "#46039f"
             ],
             [
              0.2222222222222222,
              "#7201a8"
             ],
             [
              0.3333333333333333,
              "#9c179e"
             ],
             [
              0.4444444444444444,
              "#bd3786"
             ],
             [
              0.5555555555555556,
              "#d8576b"
             ],
             [
              0.6666666666666666,
              "#ed7953"
             ],
             [
              0.7777777777777778,
              "#fb9f3a"
             ],
             [
              0.8888888888888888,
              "#fdca26"
             ],
             [
              1,
              "#f0f921"
             ]
            ],
            "type": "histogram2d"
           }
          ],
          "histogram2dcontour": [
           {
            "colorbar": {
             "outlinewidth": 0,
             "ticks": ""
            },
            "colorscale": [
             [
              0,
              "#0d0887"
             ],
             [
              0.1111111111111111,
              "#46039f"
             ],
             [
              0.2222222222222222,
              "#7201a8"
             ],
             [
              0.3333333333333333,
              "#9c179e"
             ],
             [
              0.4444444444444444,
              "#bd3786"
             ],
             [
              0.5555555555555556,
              "#d8576b"
             ],
             [
              0.6666666666666666,
              "#ed7953"
             ],
             [
              0.7777777777777778,
              "#fb9f3a"
             ],
             [
              0.8888888888888888,
              "#fdca26"
             ],
             [
              1,
              "#f0f921"
             ]
            ],
            "type": "histogram2dcontour"
           }
          ],
          "mesh3d": [
           {
            "colorbar": {
             "outlinewidth": 0,
             "ticks": ""
            },
            "type": "mesh3d"
           }
          ],
          "parcoords": [
           {
            "line": {
             "colorbar": {
              "outlinewidth": 0,
              "ticks": ""
             }
            },
            "type": "parcoords"
           }
          ],
          "pie": [
           {
            "automargin": true,
            "type": "pie"
           }
          ],
          "scatter": [
           {
            "marker": {
             "colorbar": {
              "outlinewidth": 0,
              "ticks": ""
             }
            },
            "type": "scatter"
           }
          ],
          "scatter3d": [
           {
            "line": {
             "colorbar": {
              "outlinewidth": 0,
              "ticks": ""
             }
            },
            "marker": {
             "colorbar": {
              "outlinewidth": 0,
              "ticks": ""
             }
            },
            "type": "scatter3d"
           }
          ],
          "scattercarpet": [
           {
            "marker": {
             "colorbar": {
              "outlinewidth": 0,
              "ticks": ""
             }
            },
            "type": "scattercarpet"
           }
          ],
          "scattergeo": [
           {
            "marker": {
             "colorbar": {
              "outlinewidth": 0,
              "ticks": ""
             }
            },
            "type": "scattergeo"
           }
          ],
          "scattergl": [
           {
            "marker": {
             "colorbar": {
              "outlinewidth": 0,
              "ticks": ""
             }
            },
            "type": "scattergl"
           }
          ],
          "scattermapbox": [
           {
            "marker": {
             "colorbar": {
              "outlinewidth": 0,
              "ticks": ""
             }
            },
            "type": "scattermapbox"
           }
          ],
          "scatterpolar": [
           {
            "marker": {
             "colorbar": {
              "outlinewidth": 0,
              "ticks": ""
             }
            },
            "type": "scatterpolar"
           }
          ],
          "scatterpolargl": [
           {
            "marker": {
             "colorbar": {
              "outlinewidth": 0,
              "ticks": ""
             }
            },
            "type": "scatterpolargl"
           }
          ],
          "scatterternary": [
           {
            "marker": {
             "colorbar": {
              "outlinewidth": 0,
              "ticks": ""
             }
            },
            "type": "scatterternary"
           }
          ],
          "surface": [
           {
            "colorbar": {
             "outlinewidth": 0,
             "ticks": ""
            },
            "colorscale": [
             [
              0,
              "#0d0887"
             ],
             [
              0.1111111111111111,
              "#46039f"
             ],
             [
              0.2222222222222222,
              "#7201a8"
             ],
             [
              0.3333333333333333,
              "#9c179e"
             ],
             [
              0.4444444444444444,
              "#bd3786"
             ],
             [
              0.5555555555555556,
              "#d8576b"
             ],
             [
              0.6666666666666666,
              "#ed7953"
             ],
             [
              0.7777777777777778,
              "#fb9f3a"
             ],
             [
              0.8888888888888888,
              "#fdca26"
             ],
             [
              1,
              "#f0f921"
             ]
            ],
            "type": "surface"
           }
          ],
          "table": [
           {
            "cells": {
             "fill": {
              "color": "#EBF0F8"
             },
             "line": {
              "color": "white"
             }
            },
            "header": {
             "fill": {
              "color": "#C8D4E3"
             },
             "line": {
              "color": "white"
             }
            },
            "type": "table"
           }
          ]
         },
         "layout": {
          "annotationdefaults": {
           "arrowcolor": "#2a3f5f",
           "arrowhead": 0,
           "arrowwidth": 1
          },
          "coloraxis": {
           "colorbar": {
            "outlinewidth": 0,
            "ticks": ""
           }
          },
          "colorscale": {
           "diverging": [
            [
             0,
             "#8e0152"
            ],
            [
             0.1,
             "#c51b7d"
            ],
            [
             0.2,
             "#de77ae"
            ],
            [
             0.3,
             "#f1b6da"
            ],
            [
             0.4,
             "#fde0ef"
            ],
            [
             0.5,
             "#f7f7f7"
            ],
            [
             0.6,
             "#e6f5d0"
            ],
            [
             0.7,
             "#b8e186"
            ],
            [
             0.8,
             "#7fbc41"
            ],
            [
             0.9,
             "#4d9221"
            ],
            [
             1,
             "#276419"
            ]
           ],
           "sequential": [
            [
             0,
             "#0d0887"
            ],
            [
             0.1111111111111111,
             "#46039f"
            ],
            [
             0.2222222222222222,
             "#7201a8"
            ],
            [
             0.3333333333333333,
             "#9c179e"
            ],
            [
             0.4444444444444444,
             "#bd3786"
            ],
            [
             0.5555555555555556,
             "#d8576b"
            ],
            [
             0.6666666666666666,
             "#ed7953"
            ],
            [
             0.7777777777777778,
             "#fb9f3a"
            ],
            [
             0.8888888888888888,
             "#fdca26"
            ],
            [
             1,
             "#f0f921"
            ]
           ],
           "sequentialminus": [
            [
             0,
             "#0d0887"
            ],
            [
             0.1111111111111111,
             "#46039f"
            ],
            [
             0.2222222222222222,
             "#7201a8"
            ],
            [
             0.3333333333333333,
             "#9c179e"
            ],
            [
             0.4444444444444444,
             "#bd3786"
            ],
            [
             0.5555555555555556,
             "#d8576b"
            ],
            [
             0.6666666666666666,
             "#ed7953"
            ],
            [
             0.7777777777777778,
             "#fb9f3a"
            ],
            [
             0.8888888888888888,
             "#fdca26"
            ],
            [
             1,
             "#f0f921"
            ]
           ]
          },
          "colorway": [
           "#636efa",
           "#EF553B",
           "#00cc96",
           "#ab63fa",
           "#FFA15A",
           "#19d3f3",
           "#FF6692",
           "#B6E880",
           "#FF97FF",
           "#FECB52"
          ],
          "font": {
           "color": "#2a3f5f"
          },
          "geo": {
           "bgcolor": "white",
           "lakecolor": "white",
           "landcolor": "#E5ECF6",
           "showlakes": true,
           "showland": true,
           "subunitcolor": "white"
          },
          "hoverlabel": {
           "align": "left"
          },
          "hovermode": "closest",
          "mapbox": {
           "style": "light"
          },
          "paper_bgcolor": "white",
          "plot_bgcolor": "#E5ECF6",
          "polar": {
           "angularaxis": {
            "gridcolor": "white",
            "linecolor": "white",
            "ticks": ""
           },
           "bgcolor": "#E5ECF6",
           "radialaxis": {
            "gridcolor": "white",
            "linecolor": "white",
            "ticks": ""
           }
          },
          "scene": {
           "xaxis": {
            "backgroundcolor": "#E5ECF6",
            "gridcolor": "white",
            "gridwidth": 2,
            "linecolor": "white",
            "showbackground": true,
            "ticks": "",
            "zerolinecolor": "white"
           },
           "yaxis": {
            "backgroundcolor": "#E5ECF6",
            "gridcolor": "white",
            "gridwidth": 2,
            "linecolor": "white",
            "showbackground": true,
            "ticks": "",
            "zerolinecolor": "white"
           },
           "zaxis": {
            "backgroundcolor": "#E5ECF6",
            "gridcolor": "white",
            "gridwidth": 2,
            "linecolor": "white",
            "showbackground": true,
            "ticks": "",
            "zerolinecolor": "white"
           }
          },
          "shapedefaults": {
           "line": {
            "color": "#2a3f5f"
           }
          },
          "ternary": {
           "aaxis": {
            "gridcolor": "white",
            "linecolor": "white",
            "ticks": ""
           },
           "baxis": {
            "gridcolor": "white",
            "linecolor": "white",
            "ticks": ""
           },
           "bgcolor": "#E5ECF6",
           "caxis": {
            "gridcolor": "white",
            "linecolor": "white",
            "ticks": ""
           }
          },
          "title": {
           "x": 0.05
          },
          "xaxis": {
           "automargin": true,
           "gridcolor": "white",
           "linecolor": "white",
           "ticks": "",
           "title": {
            "standoff": 15
           },
           "zerolinecolor": "white",
           "zerolinewidth": 2
          },
          "yaxis": {
           "automargin": true,
           "gridcolor": "white",
           "linecolor": "white",
           "ticks": "",
           "title": {
            "standoff": 15
           },
           "zerolinecolor": "white",
           "zerolinewidth": 2
          }
         }
        },
        "title": {
         "text": "Last Updated Confirmed Cases of COVID-19"
        }
       }
      },
      "text/html": [
       "<div>\n",
       "        \n",
       "        \n",
       "            <div id=\"ae7aea9f-2893-433b-90e4-3207a28693bc\" class=\"plotly-graph-div\" style=\"height:525px; width:100%;\"></div>\n",
       "            <script type=\"text/javascript\">\n",
       "                require([\"plotly\"], function(Plotly) {\n",
       "                    window.PLOTLYENV=window.PLOTLYENV || {};\n",
       "                    \n",
       "                if (document.getElementById(\"ae7aea9f-2893-433b-90e4-3207a28693bc\")) {\n",
       "                    Plotly.newPlot(\n",
       "                        'ae7aea9f-2893-433b-90e4-3207a28693bc',\n",
       "                        [{\"customdata\": [[6875], [15650], [63215], [83968], [10019], [5412], [170687], [167007], [1799], [21983], [213013], [41286], [7955], [155370], [23216], [30009], [196243], [1204351], [3224], [820], [4838], [751], [36], [25], [5020], [2619], [2060], [89], [3720], [10929], [82], [18350], [50509], [18], [96], [7], [1802], [1946], [23], [115455], [138], [1704], [688], [161], [15], [186], [122], [2104], [85], [170], [22016], [8613], [3], [236], [705], [755], [1464], [2112], [1685], [878], [7896], [712], [1120], [16], [8480], [31881], [7201], [587], [315], [39], [1711], [119], [145], [18], [397], [17], [604], [2719], [2642], [21], [763], [1811], [413], [93], [101], [11], [1270], [3065], [49400], [12071], [99970], [2431], [16289], [473], [15253], [471], [4205], [535], [10806], [856], [5804], [843], [19], [896], [741], [170], [63], [82], [1423], [3840], [9], [151], [41], [6383], [573], [612], [482], [8], [332], [26025], [4363], [95], [41], [324], [5219], [81], [16], [82], [1488], [16], [763], [2950], [1526], [2735], [22049], [7523], [8], [431], [51189], [9684], [14431], [25702], [17142], [13837], [261], [15], [18], [17], [589], [174], [30251], [1329], [9677], [11], [199], [19410], [1421], [1445], [835], [7572], [52], [219329], [771], [778], [10], [44], [438], [293], [480], [2988], [24], [128], [116], [1022], [129491], [98], [12697], [15192], [670], [2207], [361], [271], [371], [6], [22], [138], [34]], \"geo\": \"geo\", \"hovertemplate\": \"<b>%{hovertext}</b><br><br>Last_Update=05/06/2020<br>Confirmed=%{customdata[0]}<br>Country=%{location}<br>color=%{marker.color}<extra></extra>\", \"hovertext\": [\"Australia\", \"Austria\", \"Canada\", \"China\", \"Denmark\", \"Finland\", \"France\", \"Germany\", \"Iceland\", \"Ireland\", \"Italy\", \"Netherlands\", \"Norway\", \"Russia\", \"Sweden\", \"Switzerland\", \"United Kingdom\", \"US\", \"Afghanistan\", \"Albania\", \"Algeria\", \"Andorra\", \"Angola\", \"Antigua and Barbuda\", \"Argentina\", \"Armenia\", \"Azerbaijan\", \"Bahamas\", \"Bahrain\", \"Bangladesh\", \"Barbados\", \"Belarus\", \"Belgium\", \"Belize\", \"Benin\", \"Bhutan\", \"Bolivia\", \"Bosnia and Herzegovina\", \"Botswana\", \"Brazil\", \"Brunei\", \"Bulgaria\", \"Burkina Faso\", \"Burma\", \"Burundi\", \"Cabo Verde\", \"Cambodia\", \"Cameroon\", \"Central African Republic\", \"Chad\", \"Chile\", \"Colombia\", \"Comoros\", \"Congo (Brazzaville)\", \"Congo (Kinshasa)\", \"Costa Rica\", \"Cote d'Ivoire\", \"Croatia\", \"Cuba\", \"Cyprus\", \"Czechia\", \"Diamond Princess\", \"Djibouti\", \"Dominica\", \"Dominican Republic\", \"Ecuador\", \"Egypt\", \"El Salvador\", \"Equatorial Guinea\", \"Eritrea\", \"Estonia\", \"Eswatini\", \"Ethiopia\", \"Fiji\", \"Gabon\", \"Gambia\", \"Georgia\", \"Ghana\", \"Greece\", \"Grenada\", \"Guatemala\", \"Guinea\", \"Guinea-Bissau\", \"Guyana\", \"Haiti\", \"Holy See\", \"Honduras\", \"Hungary\", \"India\", \"Indonesia\", \"Iran\", \"Iraq\", \"Israel\", \"Jamaica\", \"Japan\", \"Jordan\", \"Kazakhstan\", \"Kenya\", \"Korea, South\", \"Kosovo\", \"Kuwait\", \"Kyrgyzstan\", \"Laos\", \"Latvia\", \"Lebanon\", \"Liberia\", \"Libya\", \"Liechtenstein\", \"Lithuania\", \"Luxembourg\", \"MS Zaandam\", \"Madagascar\", \"Malawi\", \"Malaysia\", \"Maldives\", \"Mali\", \"Malta\", \"Mauritania\", \"Mauritius\", \"Mexico\", \"Moldova\", \"Monaco\", \"Mongolia\", \"Montenegro\", \"Morocco\", \"Mozambique\", \"Namibia\", \"Nepal\", \"New Zealand\", \"Nicaragua\", \"Niger\", \"Nigeria\", \"North Macedonia\", \"Oman\", \"Pakistan\", \"Panama\", \"Papua New Guinea\", \"Paraguay\", \"Peru\", \"Philippines\", \"Poland\", \"Portugal\", \"Qatar\", \"Romania\", \"Rwanda\", \"Saint Kitts and Nevis\", \"Saint Lucia\", \"Saint Vincent and the Grenadines\", \"San Marino\", \"Sao Tome and Principe\", \"Saudi Arabia\", \"Senegal\", \"Serbia\", \"Seychelles\", \"Sierra Leone\", \"Singapore\", \"Slovakia\", \"Slovenia\", \"Somalia\", \"South Africa\", \"South Sudan\", \"Spain\", \"Sri Lanka\", \"Sudan\", \"Suriname\", \"Syria\", \"Taiwan*\", \"Tajikistan\", \"Tanzania\", \"Thailand\", \"Timor-Leste\", \"Togo\", \"Trinidad and Tobago\", \"Tunisia\", \"Turkey\", \"Uganda\", \"Ukraine\", \"United Arab Emirates\", \"Uruguay\", \"Uzbekistan\", \"Venezuela\", \"Vietnam\", \"West Bank and Gaza\", \"Western Sahara\", \"Yemen\", \"Zambia\", \"Zimbabwe\"], \"legendgroup\": \"\", \"locationmode\": \"country names\", \"locations\": [\"Australia\", \"Austria\", \"Canada\", \"China\", \"Denmark\", \"Finland\", \"France\", \"Germany\", \"Iceland\", \"Ireland\", \"Italy\", \"Netherlands\", \"Norway\", \"Russia\", \"Sweden\", \"Switzerland\", \"United Kingdom\", \"US\", \"Afghanistan\", \"Albania\", \"Algeria\", \"Andorra\", \"Angola\", \"Antigua and Barbuda\", \"Argentina\", \"Armenia\", \"Azerbaijan\", \"Bahamas\", \"Bahrain\", \"Bangladesh\", \"Barbados\", \"Belarus\", \"Belgium\", \"Belize\", \"Benin\", \"Bhutan\", \"Bolivia\", \"Bosnia and Herzegovina\", \"Botswana\", \"Brazil\", \"Brunei\", \"Bulgaria\", \"Burkina Faso\", \"Burma\", \"Burundi\", \"Cabo Verde\", \"Cambodia\", \"Cameroon\", \"Central African Republic\", \"Chad\", \"Chile\", \"Colombia\", \"Comoros\", \"Congo (Brazzaville)\", \"Congo (Kinshasa)\", \"Costa Rica\", \"Cote d'Ivoire\", \"Croatia\", \"Cuba\", \"Cyprus\", \"Czechia\", \"Diamond Princess\", \"Djibouti\", \"Dominica\", \"Dominican Republic\", \"Ecuador\", \"Egypt\", \"El Salvador\", \"Equatorial Guinea\", \"Eritrea\", \"Estonia\", \"Eswatini\", \"Ethiopia\", \"Fiji\", \"Gabon\", \"Gambia\", \"Georgia\", \"Ghana\", \"Greece\", \"Grenada\", \"Guatemala\", \"Guinea\", \"Guinea-Bissau\", \"Guyana\", \"Haiti\", \"Holy See\", \"Honduras\", \"Hungary\", \"India\", \"Indonesia\", \"Iran\", \"Iraq\", \"Israel\", \"Jamaica\", \"Japan\", \"Jordan\", \"Kazakhstan\", \"Kenya\", \"Korea, South\", \"Kosovo\", \"Kuwait\", \"Kyrgyzstan\", \"Laos\", \"Latvia\", \"Lebanon\", \"Liberia\", \"Libya\", \"Liechtenstein\", \"Lithuania\", \"Luxembourg\", \"MS Zaandam\", \"Madagascar\", \"Malawi\", \"Malaysia\", \"Maldives\", \"Mali\", \"Malta\", \"Mauritania\", \"Mauritius\", \"Mexico\", \"Moldova\", \"Monaco\", \"Mongolia\", \"Montenegro\", \"Morocco\", \"Mozambique\", \"Namibia\", \"Nepal\", \"New Zealand\", \"Nicaragua\", \"Niger\", \"Nigeria\", \"North Macedonia\", \"Oman\", \"Pakistan\", \"Panama\", \"Papua New Guinea\", \"Paraguay\", \"Peru\", \"Philippines\", \"Poland\", \"Portugal\", \"Qatar\", \"Romania\", \"Rwanda\", \"Saint Kitts and Nevis\", \"Saint Lucia\", \"Saint Vincent and the Grenadines\", \"San Marino\", \"Sao Tome and Principe\", \"Saudi Arabia\", \"Senegal\", \"Serbia\", \"Seychelles\", \"Sierra Leone\", \"Singapore\", \"Slovakia\", \"Slovenia\", \"Somalia\", \"South Africa\", \"South Sudan\", \"Spain\", \"Sri Lanka\", \"Sudan\", \"Suriname\", \"Syria\", \"Taiwan*\", \"Tajikistan\", \"Tanzania\", \"Thailand\", \"Timor-Leste\", \"Togo\", \"Trinidad and Tobago\", \"Tunisia\", \"Turkey\", \"Uganda\", \"Ukraine\", \"United Arab Emirates\", \"Uruguay\", \"Uzbekistan\", \"Venezuela\", \"Vietnam\", \"West Bank and Gaza\", \"Western Sahara\", \"Yemen\", \"Zambia\", \"Zimbabwe\"], \"marker\": {\"color\": [12.163866044756046, 16.128184081798352, 25.557895102108084, 28.00779903948331, 13.857959814730348, 11.182790075729319, 35.124459001427184, 34.88250435939538, 7.473475777190314, 18.073637999114823, 37.67544738954331, 22.25162490496953, 12.797626292004887, 34.09193360137623, 18.404982118686434, 20.03816635734468, 36.71134423877541, 64.71537373759737, 9.2854403585278, 5.484178822330049, 10.746758542879396, 5.289403334337252, 0.9301560515835212, 0.626527804403767, 10.888759356665132, 8.603290244224409, 7.866432887385013, 1.8442976132762077, 9.780477169834171, 14.276991166370987, 1.7509748799354141, 17.01475878987713, 23.763842234042983, 0.38002627459644067, 1.932614443274868, -0.2072100374790029, 7.478212384503964, 7.699354906601894, 0.5616415021458128, 31.015951939986785, 2.384940713986203, 7.320535761798265, 5.100297264285194, 2.5924851726242224, 0.2533433808426553, 2.795720712826159, 2.2257903711989915, 7.929187700640867, 1.7916276156517368, 2.668041156493941, 18.08267337606541, 13.154664777032023, -0.6096108296840907, 3.1507871183298652, 5.152481367057622, 5.3010292018736385, 6.905582331368953, 7.940498729938096, 7.289235464555739, 5.639208345346838, 12.764615511680407, 5.173713004945817, 6.21798618411977, 0.29739670999406975, 13.084077520490439, 20.44189781663525, 12.362096593198626, 4.7700430507310205, 3.6168543985602044, 1.001368927744568, 7.332005860576924, 2.194344406353294, 2.450516348093168, 0.38002627459644067, 4.02056364819561, 0.33956263368145123, 4.828276228559952, 8.723159410929938, 8.631140162347785, 0.4926757485402593, 5.32415221314687, 7.492389168506648, 4.092352388866553, 1.8953356412482822, 1.9929733546852777, 0.05313641365884392, 6.5337735880467065, 9.115503599768422, 23.592816610384844, 14.769610477256311, 29.619930252903586, 8.368966888919024, 16.3471379756592, 4.345390327099334, 15.988981745121603, 4.33732926553518, 10.22164880892377, 4.584247304253945, 14.221816670910155, 5.581272888831297, 11.462267662393101, 5.546546847181408, 0.4189454814875875, 5.685858822925761, 5.2601478060449685, 2.668041156493941, 1.4657893658794796, 1.7509748799354141, 6.8300155832956495, 9.893217666838488, -0.06681795506823729, 2.50498225026368, 1.0467383348995831, 11.851839581424462, 4.721193312360746, 4.855283609140385, 4.381372720813239, -0.13393401692638518, 3.706126890774926, 19.116270731736428, 10.357640700059624, 1.9202799516130091, 1.0467383348995831, 3.6645250677694117, 11.039957893836482, 1.7371928188465517, 0.29739670999406975, 1.7509748799354141, 6.949131286526445, 0.29739670999406975, 5.32415221314687, 8.98870728260208, 7.017089079703574, 8.742050734301754, 18.091699277731916, 12.551820150793267, -0.13393401692638518, 4.170824299889838, 23.867412794638813, 13.696991902301457, 15.692488745150069, 19.037303660941305, 16.630239896778487, 15.470791560132355, 3.3087485111690436, 0.2533433808426553, 0.38002627459644067, 0.33956263368145123, 4.776954790387344, 2.700724236721369, 20.091332924241556, 6.650824355475647, 13.693587108203223, 0.05313641365884392, 2.893909375689346, 17.33782655414769, 6.8262906236214835, 6.870750290413499, 5.524990268829178, 12.580189936621272, 1.2719073933511478, 38.02476747538999, 5.347106131347071, 5.367054439036918, -0.0047376850311204866, 1.1119728754884552, 4.2007216045734435, 3.496171630586563, 4.3734175397426505, 9.030982051348392, 0.594557933960465, 2.2870938501451725, 2.162338506563337, 5.995309292103138, 32.172116273905374, 1.9570161493329823, 15.02591009885531, 15.967368934522117, 5.044050175165095, 8.07257940982462, 3.851297242409216, 3.3689676509247066, 3.899458805259137, -0.28823014059029495, 0.5277074255111027, 2.384940713986203, 0.8803394661274377], \"coloraxis\": \"coloraxis\"}, \"name\": \"\", \"showlegend\": false, \"type\": \"scattergeo\"}],\n",
       "                        {\"coloraxis\": {\"colorbar\": {\"title\": {\"text\": \"color\"}}, \"colorscale\": [[0.0, \"rgb(0,0,0)\"], [0.3333333333333333, \"rgb(230,0,0)\"], [0.6666666666666666, \"rgb(255,210,0)\"], [1.0, \"rgb(255,255,255)\"]], \"showscale\": false}, \"geo\": {\"center\": {}, \"domain\": {\"x\": [0.0, 1.0], \"y\": [0.0, 1.0]}, \"projection\": {\"type\": \"natural earth\"}}, \"legend\": {\"tracegroupgap\": 0}, \"template\": {\"data\": {\"bar\": [{\"error_x\": {\"color\": \"#2a3f5f\"}, \"error_y\": {\"color\": \"#2a3f5f\"}, \"marker\": {\"line\": {\"color\": \"#E5ECF6\", \"width\": 0.5}}, \"type\": \"bar\"}], \"barpolar\": [{\"marker\": {\"line\": {\"color\": \"#E5ECF6\", \"width\": 0.5}}, \"type\": \"barpolar\"}], \"carpet\": [{\"aaxis\": {\"endlinecolor\": \"#2a3f5f\", \"gridcolor\": \"white\", \"linecolor\": \"white\", \"minorgridcolor\": \"white\", \"startlinecolor\": \"#2a3f5f\"}, \"baxis\": {\"endlinecolor\": \"#2a3f5f\", \"gridcolor\": \"white\", \"linecolor\": \"white\", \"minorgridcolor\": \"white\", \"startlinecolor\": \"#2a3f5f\"}, \"type\": \"carpet\"}], \"choropleth\": [{\"colorbar\": {\"outlinewidth\": 0, \"ticks\": \"\"}, \"type\": \"choropleth\"}], \"contour\": [{\"colorbar\": {\"outlinewidth\": 0, \"ticks\": \"\"}, \"colorscale\": [[0.0, \"#0d0887\"], [0.1111111111111111, \"#46039f\"], [0.2222222222222222, \"#7201a8\"], [0.3333333333333333, \"#9c179e\"], [0.4444444444444444, \"#bd3786\"], [0.5555555555555556, \"#d8576b\"], [0.6666666666666666, \"#ed7953\"], [0.7777777777777778, \"#fb9f3a\"], [0.8888888888888888, \"#fdca26\"], [1.0, \"#f0f921\"]], \"type\": \"contour\"}], \"contourcarpet\": [{\"colorbar\": {\"outlinewidth\": 0, \"ticks\": \"\"}, \"type\": \"contourcarpet\"}], \"heatmap\": [{\"colorbar\": {\"outlinewidth\": 0, \"ticks\": \"\"}, \"colorscale\": [[0.0, \"#0d0887\"], [0.1111111111111111, \"#46039f\"], [0.2222222222222222, \"#7201a8\"], [0.3333333333333333, \"#9c179e\"], [0.4444444444444444, \"#bd3786\"], [0.5555555555555556, \"#d8576b\"], [0.6666666666666666, \"#ed7953\"], [0.7777777777777778, \"#fb9f3a\"], [0.8888888888888888, \"#fdca26\"], [1.0, \"#f0f921\"]], \"type\": \"heatmap\"}], \"heatmapgl\": [{\"colorbar\": {\"outlinewidth\": 0, \"ticks\": \"\"}, \"colorscale\": [[0.0, \"#0d0887\"], [0.1111111111111111, \"#46039f\"], [0.2222222222222222, \"#7201a8\"], [0.3333333333333333, \"#9c179e\"], [0.4444444444444444, \"#bd3786\"], [0.5555555555555556, \"#d8576b\"], [0.6666666666666666, \"#ed7953\"], [0.7777777777777778, \"#fb9f3a\"], [0.8888888888888888, \"#fdca26\"], [1.0, \"#f0f921\"]], \"type\": \"heatmapgl\"}], \"histogram\": [{\"marker\": {\"colorbar\": {\"outlinewidth\": 0, \"ticks\": \"\"}}, \"type\": \"histogram\"}], \"histogram2d\": [{\"colorbar\": {\"outlinewidth\": 0, \"ticks\": \"\"}, \"colorscale\": [[0.0, \"#0d0887\"], [0.1111111111111111, \"#46039f\"], [0.2222222222222222, \"#7201a8\"], [0.3333333333333333, \"#9c179e\"], [0.4444444444444444, \"#bd3786\"], [0.5555555555555556, \"#d8576b\"], [0.6666666666666666, \"#ed7953\"], [0.7777777777777778, \"#fb9f3a\"], [0.8888888888888888, \"#fdca26\"], [1.0, \"#f0f921\"]], \"type\": \"histogram2d\"}], \"histogram2dcontour\": [{\"colorbar\": {\"outlinewidth\": 0, \"ticks\": \"\"}, \"colorscale\": [[0.0, \"#0d0887\"], [0.1111111111111111, \"#46039f\"], [0.2222222222222222, \"#7201a8\"], [0.3333333333333333, \"#9c179e\"], [0.4444444444444444, \"#bd3786\"], [0.5555555555555556, \"#d8576b\"], [0.6666666666666666, \"#ed7953\"], [0.7777777777777778, \"#fb9f3a\"], [0.8888888888888888, \"#fdca26\"], [1.0, \"#f0f921\"]], \"type\": \"histogram2dcontour\"}], \"mesh3d\": [{\"colorbar\": {\"outlinewidth\": 0, \"ticks\": \"\"}, \"type\": \"mesh3d\"}], \"parcoords\": [{\"line\": {\"colorbar\": {\"outlinewidth\": 0, \"ticks\": \"\"}}, \"type\": \"parcoords\"}], \"pie\": [{\"automargin\": true, \"type\": \"pie\"}], \"scatter\": [{\"marker\": {\"colorbar\": {\"outlinewidth\": 0, \"ticks\": \"\"}}, \"type\": \"scatter\"}], \"scatter3d\": [{\"line\": {\"colorbar\": {\"outlinewidth\": 0, \"ticks\": \"\"}}, \"marker\": {\"colorbar\": {\"outlinewidth\": 0, \"ticks\": \"\"}}, \"type\": \"scatter3d\"}], \"scattercarpet\": [{\"marker\": {\"colorbar\": {\"outlinewidth\": 0, \"ticks\": \"\"}}, \"type\": \"scattercarpet\"}], \"scattergeo\": [{\"marker\": {\"colorbar\": {\"outlinewidth\": 0, \"ticks\": \"\"}}, \"type\": \"scattergeo\"}], \"scattergl\": [{\"marker\": {\"colorbar\": {\"outlinewidth\": 0, \"ticks\": \"\"}}, \"type\": \"scattergl\"}], \"scattermapbox\": [{\"marker\": {\"colorbar\": {\"outlinewidth\": 0, \"ticks\": \"\"}}, \"type\": \"scattermapbox\"}], \"scatterpolar\": [{\"marker\": {\"colorbar\": {\"outlinewidth\": 0, \"ticks\": \"\"}}, \"type\": \"scatterpolar\"}], \"scatterpolargl\": [{\"marker\": {\"colorbar\": {\"outlinewidth\": 0, \"ticks\": \"\"}}, \"type\": \"scatterpolargl\"}], \"scatterternary\": [{\"marker\": {\"colorbar\": {\"outlinewidth\": 0, \"ticks\": \"\"}}, \"type\": \"scatterternary\"}], \"surface\": [{\"colorbar\": {\"outlinewidth\": 0, \"ticks\": \"\"}, \"colorscale\": [[0.0, \"#0d0887\"], [0.1111111111111111, \"#46039f\"], [0.2222222222222222, \"#7201a8\"], [0.3333333333333333, \"#9c179e\"], [0.4444444444444444, \"#bd3786\"], [0.5555555555555556, \"#d8576b\"], [0.6666666666666666, \"#ed7953\"], [0.7777777777777778, \"#fb9f3a\"], [0.8888888888888888, \"#fdca26\"], [1.0, \"#f0f921\"]], \"type\": \"surface\"}], \"table\": [{\"cells\": {\"fill\": {\"color\": \"#EBF0F8\"}, \"line\": {\"color\": \"white\"}}, \"header\": {\"fill\": {\"color\": \"#C8D4E3\"}, \"line\": {\"color\": \"white\"}}, \"type\": \"table\"}]}, \"layout\": {\"annotationdefaults\": {\"arrowcolor\": \"#2a3f5f\", \"arrowhead\": 0, \"arrowwidth\": 1}, \"coloraxis\": {\"colorbar\": {\"outlinewidth\": 0, \"ticks\": \"\"}}, \"colorscale\": {\"diverging\": [[0, \"#8e0152\"], [0.1, \"#c51b7d\"], [0.2, \"#de77ae\"], [0.3, \"#f1b6da\"], [0.4, \"#fde0ef\"], [0.5, \"#f7f7f7\"], [0.6, \"#e6f5d0\"], [0.7, \"#b8e186\"], [0.8, \"#7fbc41\"], [0.9, \"#4d9221\"], [1, \"#276419\"]], \"sequential\": [[0.0, \"#0d0887\"], [0.1111111111111111, \"#46039f\"], [0.2222222222222222, \"#7201a8\"], [0.3333333333333333, \"#9c179e\"], [0.4444444444444444, \"#bd3786\"], [0.5555555555555556, \"#d8576b\"], [0.6666666666666666, \"#ed7953\"], [0.7777777777777778, \"#fb9f3a\"], [0.8888888888888888, \"#fdca26\"], [1.0, \"#f0f921\"]], \"sequentialminus\": [[0.0, \"#0d0887\"], [0.1111111111111111, \"#46039f\"], [0.2222222222222222, \"#7201a8\"], [0.3333333333333333, \"#9c179e\"], [0.4444444444444444, \"#bd3786\"], [0.5555555555555556, \"#d8576b\"], [0.6666666666666666, \"#ed7953\"], [0.7777777777777778, \"#fb9f3a\"], [0.8888888888888888, \"#fdca26\"], [1.0, \"#f0f921\"]]}, \"colorway\": [\"#636efa\", \"#EF553B\", \"#00cc96\", \"#ab63fa\", \"#FFA15A\", \"#19d3f3\", \"#FF6692\", \"#B6E880\", \"#FF97FF\", \"#FECB52\"], \"font\": {\"color\": \"#2a3f5f\"}, \"geo\": {\"bgcolor\": \"white\", \"lakecolor\": \"white\", \"landcolor\": \"#E5ECF6\", \"showlakes\": true, \"showland\": true, \"subunitcolor\": \"white\"}, \"hoverlabel\": {\"align\": \"left\"}, \"hovermode\": \"closest\", \"mapbox\": {\"style\": \"light\"}, \"paper_bgcolor\": \"white\", \"plot_bgcolor\": \"#E5ECF6\", \"polar\": {\"angularaxis\": {\"gridcolor\": \"white\", \"linecolor\": \"white\", \"ticks\": \"\"}, \"bgcolor\": \"#E5ECF6\", \"radialaxis\": {\"gridcolor\": \"white\", \"linecolor\": \"white\", \"ticks\": \"\"}}, \"scene\": {\"xaxis\": {\"backgroundcolor\": \"#E5ECF6\", \"gridcolor\": \"white\", \"gridwidth\": 2, \"linecolor\": \"white\", \"showbackground\": true, \"ticks\": \"\", \"zerolinecolor\": \"white\"}, \"yaxis\": {\"backgroundcolor\": \"#E5ECF6\", \"gridcolor\": \"white\", \"gridwidth\": 2, \"linecolor\": \"white\", \"showbackground\": true, \"ticks\": \"\", \"zerolinecolor\": \"white\"}, \"zaxis\": {\"backgroundcolor\": \"#E5ECF6\", \"gridcolor\": \"white\", \"gridwidth\": 2, \"linecolor\": \"white\", \"showbackground\": true, \"ticks\": \"\", \"zerolinecolor\": \"white\"}}, \"shapedefaults\": {\"line\": {\"color\": \"#2a3f5f\"}}, \"ternary\": {\"aaxis\": {\"gridcolor\": \"white\", \"linecolor\": \"white\", \"ticks\": \"\"}, \"baxis\": {\"gridcolor\": \"white\", \"linecolor\": \"white\", \"ticks\": \"\"}, \"bgcolor\": \"#E5ECF6\", \"caxis\": {\"gridcolor\": \"white\", \"linecolor\": \"white\", \"ticks\": \"\"}}, \"title\": {\"x\": 0.05}, \"xaxis\": {\"automargin\": true, \"gridcolor\": \"white\", \"linecolor\": \"white\", \"ticks\": \"\", \"title\": {\"standoff\": 15}, \"zerolinecolor\": \"white\", \"zerolinewidth\": 2}, \"yaxis\": {\"automargin\": true, \"gridcolor\": \"white\", \"linecolor\": \"white\", \"ticks\": \"\", \"title\": {\"standoff\": 15}, \"zerolinecolor\": \"white\", \"zerolinewidth\": 2}}}, \"title\": {\"text\": \"Last Updated Confirmed Cases of COVID-19\"}},\n",
       "                        {\"responsive\": true}\n",
       "                    ).then(function(){\n",
       "                            \n",
       "var gd = document.getElementById('ae7aea9f-2893-433b-90e4-3207a28693bc');\n",
       "var x = new MutationObserver(function (mutations, observer) {{\n",
       "        var display = window.getComputedStyle(gd).display;\n",
       "        if (!display || display === 'none') {{\n",
       "            console.log([gd, 'removed!']);\n",
       "            Plotly.purge(gd);\n",
       "            observer.disconnect();\n",
       "        }}\n",
       "}});\n",
       "\n",
       "// Listen for the removal of the full notebook cells\n",
       "var notebookContainer = gd.closest('#notebook-container');\n",
       "if (notebookContainer) {{\n",
       "    x.observe(notebookContainer, {childList: true});\n",
       "}}\n",
       "\n",
       "// Listen for the clearing of the current output cell\n",
       "var outputEl = gd.closest('.output');\n",
       "if (outputEl) {{\n",
       "    x.observe(outputEl, {childList: true});\n",
       "}}\n",
       "\n",
       "                        })\n",
       "                };\n",
       "                });\n",
       "            </script>\n",
       "        </div>"
      ]
     },
     "metadata": {},
     "output_type": "display_data"
    }
   ],
   "source": [
    "#Geographical Scatter Plotting of Last Updated Confirmed Cases over the World\n",
    "\n",
    "scatter_map_data = px.scatter_geo(covid19_country, locations ='Country',\n",
    "                            locationmode='country names',\n",
    "    color=np.power(covid19_country['Confirmed'], 0.3) -2,\n",
    "    hover_name='Country',\n",
    "    hover_data = ['Confirmed'], \n",
    "    projection='natural earth',\n",
    "    animation_frame='Last_Update',\n",
    "    title='Last Updated Confirmed Cases of COVID-19')\n",
    "\n",
    "scatter_map_data.update_coloraxes(colorscale='hot')\n",
    "scatter_map_data.update(layout_coloraxis_showscale=False)\n",
    "scatter_map_data.show()"
   ]
  },
  {
   "cell_type": "code",
   "execution_count": null,
   "metadata": {},
   "outputs": [],
   "source": []
  },
  {
   "cell_type": "code",
   "execution_count": null,
   "metadata": {},
   "outputs": [],
   "source": []
  },
  {
   "cell_type": "code",
   "execution_count": null,
   "metadata": {},
   "outputs": [],
   "source": []
  },
  {
   "cell_type": "code",
   "execution_count": null,
   "metadata": {},
   "outputs": [],
   "source": []
  }
 ],
 "metadata": {
  "kernelspec": {
   "display_name": "Python 3",
   "language": "python",
   "name": "python3"
  },
  "language_info": {
   "codemirror_mode": {
    "name": "ipython",
    "version": 3
   },
   "file_extension": ".py",
   "mimetype": "text/x-python",
   "name": "python",
   "nbconvert_exporter": "python",
   "pygments_lexer": "ipython3",
   "version": "3.8.2"
  }
 },
 "nbformat": 4,
 "nbformat_minor": 4
}
